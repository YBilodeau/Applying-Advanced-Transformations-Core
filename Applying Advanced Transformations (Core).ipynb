{
 "cells": [
  {
   "cell_type": "markdown",
   "id": "9cb789f3",
   "metadata": {},
   "source": [
    "# **Applying Advanced Transformations (Core)**"
   ]
  },
  {
   "cell_type": "markdown",
   "id": "3e4a63eb",
   "metadata": {},
   "source": [
    "- Yvon Bilodeau\n",
    "- May 2022"
   ]
  },
  {
   "cell_type": "markdown",
   "id": "d592bcc5",
   "metadata": {},
   "source": [
    "## **Source of Data**"
   ]
  },
  {
   "cell_type": "markdown",
   "id": "cdacbde0",
   "metadata": {},
   "source": [
    "You will be working with a heavily modified version of the Superheroes dataset from Kaggle.\n",
    "\n",
    "The dataset includes two csv's:\n",
    "\n",
    "- [superhero_info.csv:](https://docs.google.com/spreadsheets/d/e/2PACX-1vS1ZstYLwFgwhZnqDsPjtnlHYhJp_cmW55J8JD5mym0seRsaem3px7QBtuFF0LiI7z1PLCkVKAkdO7J/pub?output=csv)\n",
    " - Contains Name, Publisher, Demographic Info, and Body measurements.\n",
    "- [superhero_powers.csv:](https://docs.google.com/spreadsheets/d/e/2PACX-1vSzdWOBaXOoz52vPmCFV5idNlDBohLY1Lsbc1IfZIZQ7cV_aNB2wYBfhF49uE1TaO1B5MQCGWiNrFfd/pub?output=csv)\n",
    " - Contains Hero name and list of powers\n",
    " \n",
    " [Source](https://www.kaggle.com/datasets/claudiodavi/superhero-set)"
   ]
  },
  {
   "cell_type": "markdown",
   "id": "f2c27524",
   "metadata": {},
   "source": [
    "## **The Task**"
   ]
  },
  {
   "cell_type": "markdown",
   "id": "856b5a26",
   "metadata": {},
   "source": [
    "**I. Clean the files and combine them into one final DataFrame.**\n",
    "\n",
    "This dataframe should have the following columns:\n",
    "\n",
    "- Hero (Just the name of the Hero)\n",
    "- Publisher\n",
    "- Gender\n",
    "- Eye color\n",
    "- Race\n",
    "- Hair color\n",
    "- Height (numeric)\n",
    "- Skin color\n",
    "- Alignment\n",
    "- Weight (numeric)\n",
    "\n",
    "Plus, one-hot-encoded columns for every power that appears in the dataset. E.g.:\n",
    "- Agility\n",
    "- Flight\n",
    "- Superspeed\n",
    "- etc.\n",
    "\n",
    "Hint: There is a space in \"100 kg\" or \"52.5 cm\""
   ]
  },
  {
   "cell_type": "markdown",
   "id": "4d10ee9d",
   "metadata": {},
   "source": [
    "**II. Use your combined DataFrame to answer the following questions.**\n",
    "\n",
    "1. Compare the average weight of super powers who have Super Speed to those who do not.\n",
    "2. What is the average height of heroes for each publisher?"
   ]
  },
  {
   "cell_type": "markdown",
   "id": "2699a1c5",
   "metadata": {},
   "source": [
    "## **Import Libraries**"
   ]
  },
  {
   "cell_type": "code",
   "execution_count": 1,
   "id": "3a9fae10",
   "metadata": {},
   "outputs": [],
   "source": [
    "# Standard Imports\n",
    "import numpy as np\n",
    "import pandas as pd\n",
    "import matplotlib.pyplot as plt\n",
    "import seaborn as sns\n",
    "import json"
   ]
  },
  {
   "cell_type": "markdown",
   "id": "c3bb0d9f",
   "metadata": {},
   "source": [
    "## **Load the Data**"
   ]
  },
  {
   "cell_type": "code",
   "execution_count": 2,
   "id": "58c2de11",
   "metadata": {},
   "outputs": [],
   "source": [
    "df_1 = pd.read_csv('https://docs.google.com/spreadsheets/d/e/2PACX-1vS1ZstYLwFgwhZnqDsPjtnlHYhJp_cmW55J8JD5mym0seRsaem3px7QBtuFF0LiI7z1PLCkVKAkdO7J/pub?output=csv')\n",
    "df_2 = pd.read_csv('https://docs.google.com/spreadsheets/d/e/2PACX-1vSzdWOBaXOoz52vPmCFV5idNlDBohLY1Lsbc1IfZIZQ7cV_aNB2wYBfhF49uE1TaO1B5MQCGWiNrFfd/pub?output=csv')"
   ]
  },
  {
   "cell_type": "markdown",
   "id": "5a283861",
   "metadata": {},
   "source": [
    "## **Inspect the Data**"
   ]
  },
  {
   "cell_type": "markdown",
   "id": "8f044d42",
   "metadata": {},
   "source": [
    "### **Superhero_info**"
   ]
  },
  {
   "cell_type": "markdown",
   "id": "60a1fcd2",
   "metadata": {},
   "source": [
    "#### **Display First (10) Rows**"
   ]
  },
  {
   "cell_type": "code",
   "execution_count": 3,
   "id": "d00bc810",
   "metadata": {
    "scrolled": false
   },
   "outputs": [
    {
     "data": {
      "text/html": [
       "<div>\n",
       "<style scoped>\n",
       "    .dataframe tbody tr th:only-of-type {\n",
       "        vertical-align: middle;\n",
       "    }\n",
       "\n",
       "    .dataframe tbody tr th {\n",
       "        vertical-align: top;\n",
       "    }\n",
       "\n",
       "    .dataframe thead th {\n",
       "        text-align: right;\n",
       "    }\n",
       "</style>\n",
       "<table border=\"1\" class=\"dataframe\">\n",
       "  <thead>\n",
       "    <tr style=\"text-align: right;\">\n",
       "      <th></th>\n",
       "      <th>Hero|Publisher</th>\n",
       "      <th>Gender</th>\n",
       "      <th>Race</th>\n",
       "      <th>Alignment</th>\n",
       "      <th>Hair color</th>\n",
       "      <th>Eye color</th>\n",
       "      <th>Skin color</th>\n",
       "      <th>Measurements</th>\n",
       "    </tr>\n",
       "  </thead>\n",
       "  <tbody>\n",
       "    <tr>\n",
       "      <th>0</th>\n",
       "      <td>A-Bomb|Marvel Comics</td>\n",
       "      <td>Male</td>\n",
       "      <td>Human</td>\n",
       "      <td>good</td>\n",
       "      <td>No Hair</td>\n",
       "      <td>yellow</td>\n",
       "      <td>Unknown</td>\n",
       "      <td>{'Height': '203.0 cm', 'Weight': '441.0 kg'}</td>\n",
       "    </tr>\n",
       "    <tr>\n",
       "      <th>1</th>\n",
       "      <td>Abe Sapien|Dark Horse Comics</td>\n",
       "      <td>Male</td>\n",
       "      <td>Icthyo Sapien</td>\n",
       "      <td>good</td>\n",
       "      <td>No Hair</td>\n",
       "      <td>blue</td>\n",
       "      <td>blue</td>\n",
       "      <td>{'Height': '191.0 cm', 'Weight': '65.0 kg'}</td>\n",
       "    </tr>\n",
       "    <tr>\n",
       "      <th>2</th>\n",
       "      <td>Abin Sur|DC Comics</td>\n",
       "      <td>Male</td>\n",
       "      <td>Ungaran</td>\n",
       "      <td>good</td>\n",
       "      <td>No Hair</td>\n",
       "      <td>blue</td>\n",
       "      <td>red</td>\n",
       "      <td>{'Height': '185.0 cm', 'Weight': '90.0 kg'}</td>\n",
       "    </tr>\n",
       "    <tr>\n",
       "      <th>3</th>\n",
       "      <td>Abomination|Marvel Comics</td>\n",
       "      <td>Male</td>\n",
       "      <td>Human / Radiation</td>\n",
       "      <td>bad</td>\n",
       "      <td>No Hair</td>\n",
       "      <td>green</td>\n",
       "      <td>Unknown</td>\n",
       "      <td>{'Height': '203.0 cm', 'Weight': '441.0 kg'}</td>\n",
       "    </tr>\n",
       "    <tr>\n",
       "      <th>4</th>\n",
       "      <td>Absorbing Man|Marvel Comics</td>\n",
       "      <td>Male</td>\n",
       "      <td>Human</td>\n",
       "      <td>bad</td>\n",
       "      <td>No Hair</td>\n",
       "      <td>blue</td>\n",
       "      <td>Unknown</td>\n",
       "      <td>{'Height': '193.0 cm', 'Weight': '122.0 kg'}</td>\n",
       "    </tr>\n",
       "    <tr>\n",
       "      <th>5</th>\n",
       "      <td>Adam Strange|DC Comics</td>\n",
       "      <td>Male</td>\n",
       "      <td>Human</td>\n",
       "      <td>good</td>\n",
       "      <td>Blond</td>\n",
       "      <td>blue</td>\n",
       "      <td>Unknown</td>\n",
       "      <td>{'Height': '185.0 cm', 'Weight': '88.0 kg'}</td>\n",
       "    </tr>\n",
       "    <tr>\n",
       "      <th>6</th>\n",
       "      <td>Agent Bob|Marvel Comics</td>\n",
       "      <td>Male</td>\n",
       "      <td>Human</td>\n",
       "      <td>good</td>\n",
       "      <td>Brown</td>\n",
       "      <td>brown</td>\n",
       "      <td>Unknown</td>\n",
       "      <td>{'Height': '178.0 cm', 'Weight': '81.0 kg'}</td>\n",
       "    </tr>\n",
       "    <tr>\n",
       "      <th>7</th>\n",
       "      <td>Agent Zero|Marvel Comics</td>\n",
       "      <td>Male</td>\n",
       "      <td>Unknown</td>\n",
       "      <td>good</td>\n",
       "      <td>Unknown</td>\n",
       "      <td>Unknown</td>\n",
       "      <td>Unknown</td>\n",
       "      <td>{'Height': '191.0 cm', 'Weight': '104.0 kg'}</td>\n",
       "    </tr>\n",
       "    <tr>\n",
       "      <th>8</th>\n",
       "      <td>Air-Walker|Marvel Comics</td>\n",
       "      <td>Male</td>\n",
       "      <td>Unknown</td>\n",
       "      <td>bad</td>\n",
       "      <td>White</td>\n",
       "      <td>blue</td>\n",
       "      <td>Unknown</td>\n",
       "      <td>{'Height': '188.0 cm', 'Weight': '108.0 kg'}</td>\n",
       "    </tr>\n",
       "    <tr>\n",
       "      <th>9</th>\n",
       "      <td>Ajax|Marvel Comics</td>\n",
       "      <td>Male</td>\n",
       "      <td>Cyborg</td>\n",
       "      <td>bad</td>\n",
       "      <td>Black</td>\n",
       "      <td>brown</td>\n",
       "      <td>Unknown</td>\n",
       "      <td>{'Height': '193.0 cm', 'Weight': '90.0 kg'}</td>\n",
       "    </tr>\n",
       "  </tbody>\n",
       "</table>\n",
       "</div>"
      ],
      "text/plain": [
       "                 Hero|Publisher Gender               Race Alignment  \\\n",
       "0          A-Bomb|Marvel Comics   Male              Human      good   \n",
       "1  Abe Sapien|Dark Horse Comics   Male      Icthyo Sapien      good   \n",
       "2            Abin Sur|DC Comics   Male            Ungaran      good   \n",
       "3     Abomination|Marvel Comics   Male  Human / Radiation       bad   \n",
       "4   Absorbing Man|Marvel Comics   Male              Human       bad   \n",
       "5        Adam Strange|DC Comics   Male              Human      good   \n",
       "6       Agent Bob|Marvel Comics   Male              Human      good   \n",
       "7      Agent Zero|Marvel Comics   Male            Unknown      good   \n",
       "8      Air-Walker|Marvel Comics   Male            Unknown       bad   \n",
       "9            Ajax|Marvel Comics   Male             Cyborg       bad   \n",
       "\n",
       "  Hair color Eye color Skin color  \\\n",
       "0    No Hair    yellow    Unknown   \n",
       "1    No Hair      blue       blue   \n",
       "2    No Hair      blue        red   \n",
       "3    No Hair     green    Unknown   \n",
       "4    No Hair      blue    Unknown   \n",
       "5      Blond      blue    Unknown   \n",
       "6      Brown     brown    Unknown   \n",
       "7    Unknown   Unknown    Unknown   \n",
       "8      White      blue    Unknown   \n",
       "9      Black     brown    Unknown   \n",
       "\n",
       "                                   Measurements  \n",
       "0  {'Height': '203.0 cm', 'Weight': '441.0 kg'}  \n",
       "1   {'Height': '191.0 cm', 'Weight': '65.0 kg'}  \n",
       "2   {'Height': '185.0 cm', 'Weight': '90.0 kg'}  \n",
       "3  {'Height': '203.0 cm', 'Weight': '441.0 kg'}  \n",
       "4  {'Height': '193.0 cm', 'Weight': '122.0 kg'}  \n",
       "5   {'Height': '185.0 cm', 'Weight': '88.0 kg'}  \n",
       "6   {'Height': '178.0 cm', 'Weight': '81.0 kg'}  \n",
       "7  {'Height': '191.0 cm', 'Weight': '104.0 kg'}  \n",
       "8  {'Height': '188.0 cm', 'Weight': '108.0 kg'}  \n",
       "9   {'Height': '193.0 cm', 'Weight': '90.0 kg'}  "
      ]
     },
     "execution_count": 3,
     "metadata": {},
     "output_type": "execute_result"
    }
   ],
   "source": [
    "# Display the first (10) rows of the dataframe\n",
    "df_1.head(10)"
   ]
  },
  {
   "cell_type": "markdown",
   "id": "9198c10f",
   "metadata": {},
   "source": [
    "#### **Display the Row and Column Count**"
   ]
  },
  {
   "cell_type": "code",
   "execution_count": 4,
   "id": "c915b2d6",
   "metadata": {},
   "outputs": [
    {
     "name": "stdout",
     "output_type": "stream",
     "text": [
      "There are 463 rows, and 8 columns.\n"
     ]
    }
   ],
   "source": [
    "# Display the number of rows and columns for the dataframe\n",
    "df_1.shape\n",
    "print(f'There are {df_1.shape[0]} rows, and {df_1.shape[1]} columns.')"
   ]
  },
  {
   "cell_type": "markdown",
   "id": "0f5a6baf",
   "metadata": {},
   "source": [
    "#### **Display Data Types**"
   ]
  },
  {
   "cell_type": "code",
   "execution_count": 5,
   "id": "6a86af95",
   "metadata": {},
   "outputs": [
    {
     "data": {
      "text/plain": [
       "Hero|Publisher    object\n",
       "Gender            object\n",
       "Race              object\n",
       "Alignment         object\n",
       "Hair color        object\n",
       "Eye color         object\n",
       "Skin color        object\n",
       "Measurements      object\n",
       "dtype: object"
      ]
     },
     "execution_count": 5,
     "metadata": {},
     "output_type": "execute_result"
    }
   ],
   "source": [
    "# Display the column names and datatypes for each column\n",
    "# Columns with mixed datatypes are identified as an object datatype\n",
    "df_1.dtypes"
   ]
  },
  {
   "cell_type": "markdown",
   "id": "f5feab41",
   "metadata": {},
   "source": [
    "#### **Display Column Names, Count of Non-Null Values, and Data Types**"
   ]
  },
  {
   "cell_type": "code",
   "execution_count": 6,
   "id": "b4527ffd",
   "metadata": {
    "scrolled": true
   },
   "outputs": [
    {
     "name": "stdout",
     "output_type": "stream",
     "text": [
      "<class 'pandas.core.frame.DataFrame'>\n",
      "RangeIndex: 463 entries, 0 to 462\n",
      "Data columns (total 8 columns):\n",
      " #   Column          Non-Null Count  Dtype \n",
      "---  ------          --------------  ----- \n",
      " 0   Hero|Publisher  463 non-null    object\n",
      " 1   Gender          463 non-null    object\n",
      " 2   Race            463 non-null    object\n",
      " 3   Alignment       463 non-null    object\n",
      " 4   Hair color      463 non-null    object\n",
      " 5   Eye color       463 non-null    object\n",
      " 6   Skin color      463 non-null    object\n",
      " 7   Measurements    463 non-null    object\n",
      "dtypes: object(8)\n",
      "memory usage: 29.1+ KB\n"
     ]
    }
   ],
   "source": [
    "# Display the column names, count of non-null values, and their datatypes\n",
    "df_1.info()"
   ]
  },
  {
   "cell_type": "markdown",
   "id": "72cae0ca",
   "metadata": {},
   "source": [
    "### **Superhero_powers**"
   ]
  },
  {
   "cell_type": "markdown",
   "id": "7490ff2f",
   "metadata": {},
   "source": [
    "#### **Display First (10) Rows**"
   ]
  },
  {
   "cell_type": "code",
   "execution_count": 7,
   "id": "fb74c6a2",
   "metadata": {
    "scrolled": true
   },
   "outputs": [
    {
     "data": {
      "text/html": [
       "<div>\n",
       "<style scoped>\n",
       "    .dataframe tbody tr th:only-of-type {\n",
       "        vertical-align: middle;\n",
       "    }\n",
       "\n",
       "    .dataframe tbody tr th {\n",
       "        vertical-align: top;\n",
       "    }\n",
       "\n",
       "    .dataframe thead th {\n",
       "        text-align: right;\n",
       "    }\n",
       "</style>\n",
       "<table border=\"1\" class=\"dataframe\">\n",
       "  <thead>\n",
       "    <tr style=\"text-align: right;\">\n",
       "      <th></th>\n",
       "      <th>hero_names</th>\n",
       "      <th>Powers</th>\n",
       "    </tr>\n",
       "  </thead>\n",
       "  <tbody>\n",
       "    <tr>\n",
       "      <th>0</th>\n",
       "      <td>3-D Man</td>\n",
       "      <td>Agility,Super Strength,Stamina,Super Speed</td>\n",
       "    </tr>\n",
       "    <tr>\n",
       "      <th>1</th>\n",
       "      <td>A-Bomb</td>\n",
       "      <td>Accelerated Healing,Durability,Longevity,Super...</td>\n",
       "    </tr>\n",
       "    <tr>\n",
       "      <th>2</th>\n",
       "      <td>Abe Sapien</td>\n",
       "      <td>Agility,Accelerated Healing,Cold Resistance,Du...</td>\n",
       "    </tr>\n",
       "    <tr>\n",
       "      <th>3</th>\n",
       "      <td>Abin Sur</td>\n",
       "      <td>Lantern Power Ring</td>\n",
       "    </tr>\n",
       "    <tr>\n",
       "      <th>4</th>\n",
       "      <td>Abomination</td>\n",
       "      <td>Accelerated Healing,Intelligence,Super Strengt...</td>\n",
       "    </tr>\n",
       "    <tr>\n",
       "      <th>5</th>\n",
       "      <td>Abraxas</td>\n",
       "      <td>Dimensional Awareness,Flight,Intelligence,Supe...</td>\n",
       "    </tr>\n",
       "    <tr>\n",
       "      <th>6</th>\n",
       "      <td>Absorbing Man</td>\n",
       "      <td>Cold Resistance,Durability,Energy Absorption,S...</td>\n",
       "    </tr>\n",
       "    <tr>\n",
       "      <th>7</th>\n",
       "      <td>Adam Monroe</td>\n",
       "      <td>Accelerated Healing,Immortality,Regeneration</td>\n",
       "    </tr>\n",
       "    <tr>\n",
       "      <th>8</th>\n",
       "      <td>Adam Strange</td>\n",
       "      <td>Durability,Stealth,Flight,Marksmanship,Weapons...</td>\n",
       "    </tr>\n",
       "    <tr>\n",
       "      <th>9</th>\n",
       "      <td>Agent Bob</td>\n",
       "      <td>Stealth</td>\n",
       "    </tr>\n",
       "  </tbody>\n",
       "</table>\n",
       "</div>"
      ],
      "text/plain": [
       "      hero_names                                             Powers\n",
       "0        3-D Man         Agility,Super Strength,Stamina,Super Speed\n",
       "1         A-Bomb  Accelerated Healing,Durability,Longevity,Super...\n",
       "2     Abe Sapien  Agility,Accelerated Healing,Cold Resistance,Du...\n",
       "3       Abin Sur                                 Lantern Power Ring\n",
       "4    Abomination  Accelerated Healing,Intelligence,Super Strengt...\n",
       "5        Abraxas  Dimensional Awareness,Flight,Intelligence,Supe...\n",
       "6  Absorbing Man  Cold Resistance,Durability,Energy Absorption,S...\n",
       "7    Adam Monroe       Accelerated Healing,Immortality,Regeneration\n",
       "8   Adam Strange  Durability,Stealth,Flight,Marksmanship,Weapons...\n",
       "9      Agent Bob                                            Stealth"
      ]
     },
     "execution_count": 7,
     "metadata": {},
     "output_type": "execute_result"
    }
   ],
   "source": [
    "# Display the first (10) rows of the dataframe\n",
    "df_2.head(10)"
   ]
  },
  {
   "cell_type": "markdown",
   "id": "5729b584",
   "metadata": {},
   "source": [
    "#### **Display Column Names, Count of Non-Null Values, and Data Types**"
   ]
  },
  {
   "cell_type": "code",
   "execution_count": 8,
   "id": "03819dc5",
   "metadata": {},
   "outputs": [
    {
     "name": "stdout",
     "output_type": "stream",
     "text": [
      "There are 667 rows, and 2 columns.\n"
     ]
    }
   ],
   "source": [
    "# Display the number of rows and columns for the dataframe\n",
    "df_2.shape\n",
    "print(f'There are {df_2.shape[0]} rows, and {df_2.shape[1]} columns.')"
   ]
  },
  {
   "cell_type": "markdown",
   "id": "9e948a93",
   "metadata": {},
   "source": [
    "#### **Display Data Types**"
   ]
  },
  {
   "cell_type": "code",
   "execution_count": 9,
   "id": "3b4a87a8",
   "metadata": {},
   "outputs": [
    {
     "data": {
      "text/plain": [
       "hero_names    object\n",
       "Powers        object\n",
       "dtype: object"
      ]
     },
     "execution_count": 9,
     "metadata": {},
     "output_type": "execute_result"
    }
   ],
   "source": [
    "# Display the column names and datatypes for each column\n",
    "# Columns with mixed datatypes are identified as an object datatype\n",
    "df_2.dtypes"
   ]
  },
  {
   "cell_type": "markdown",
   "id": "6fb720ec",
   "metadata": {},
   "source": [
    "#### **Display Column Names, Count of Non-Null Values, and Data Types**"
   ]
  },
  {
   "cell_type": "code",
   "execution_count": 10,
   "id": "c1fc98f4",
   "metadata": {},
   "outputs": [
    {
     "name": "stdout",
     "output_type": "stream",
     "text": [
      "<class 'pandas.core.frame.DataFrame'>\n",
      "RangeIndex: 667 entries, 0 to 666\n",
      "Data columns (total 2 columns):\n",
      " #   Column      Non-Null Count  Dtype \n",
      "---  ------      --------------  ----- \n",
      " 0   hero_names  667 non-null    object\n",
      " 1   Powers      667 non-null    object\n",
      "dtypes: object(2)\n",
      "memory usage: 10.5+ KB\n"
     ]
    }
   ],
   "source": [
    "# Display the column names, count of non-null values, and their datatypes\n",
    "df_2.info()"
   ]
  },
  {
   "cell_type": "markdown",
   "id": "4cd80e2d",
   "metadata": {},
   "source": [
    "## **Clean the Data**"
   ]
  },
  {
   "cell_type": "markdown",
   "id": "4a2c3995",
   "metadata": {},
   "source": [
    "### **Superhero_info**"
   ]
  },
  {
   "cell_type": "markdown",
   "id": "9906e252",
   "metadata": {},
   "source": [
    "#### **Remove Unecessary Rows**\n"
   ]
  },
  {
   "cell_type": "code",
   "execution_count": 11,
   "id": "abd7d421",
   "metadata": {},
   "outputs": [
    {
     "name": "stdout",
     "output_type": "stream",
     "text": [
      "There are 0 duplicate rows.\n"
     ]
    }
   ],
   "source": [
    "# Display the number of duplicate rows in the dataset\n",
    "print(f'There are {df_1.duplicated().sum()} duplicate rows.')"
   ]
  },
  {
   "cell_type": "markdown",
   "id": "7a3399bc",
   "metadata": {},
   "source": [
    "#### **Missing Values**"
   ]
  },
  {
   "cell_type": "markdown",
   "id": "3e07d11b",
   "metadata": {},
   "source": [
    "- There are no missing values."
   ]
  },
  {
   "cell_type": "markdown",
   "id": "f1cf9970",
   "metadata": {},
   "source": [
    "### **Superhero_powers**"
   ]
  },
  {
   "cell_type": "markdown",
   "id": "58afe46d",
   "metadata": {},
   "source": [
    "#### **Remove Unecessary Rows**"
   ]
  },
  {
   "cell_type": "code",
   "execution_count": 12,
   "id": "09fe2cb9",
   "metadata": {},
   "outputs": [
    {
     "name": "stdout",
     "output_type": "stream",
     "text": [
      "There are 0 duplicate rows.\n"
     ]
    }
   ],
   "source": [
    "# Display the number of duplicate rows in the dataset\n",
    "print(f'There are {df_2.duplicated().sum()} duplicate rows.')"
   ]
  },
  {
   "cell_type": "markdown",
   "id": "345c6e02",
   "metadata": {},
   "source": [
    "#### **Missing Values**"
   ]
  },
  {
   "cell_type": "markdown",
   "id": "5bf805df",
   "metadata": {},
   "source": [
    "- There are no missing values"
   ]
  },
  {
   "cell_type": "markdown",
   "id": "703d23da",
   "metadata": {},
   "source": [
    "## **Transformations**"
   ]
  },
  {
   "cell_type": "markdown",
   "id": "7fffe434",
   "metadata": {},
   "source": [
    "### **Superhero_info**"
   ]
  },
  {
   "cell_type": "code",
   "execution_count": 13,
   "id": "dc54e392",
   "metadata": {},
   "outputs": [
    {
     "data": {
      "text/html": [
       "<div>\n",
       "<style scoped>\n",
       "    .dataframe tbody tr th:only-of-type {\n",
       "        vertical-align: middle;\n",
       "    }\n",
       "\n",
       "    .dataframe tbody tr th {\n",
       "        vertical-align: top;\n",
       "    }\n",
       "\n",
       "    .dataframe thead th {\n",
       "        text-align: right;\n",
       "    }\n",
       "</style>\n",
       "<table border=\"1\" class=\"dataframe\">\n",
       "  <thead>\n",
       "    <tr style=\"text-align: right;\">\n",
       "      <th></th>\n",
       "      <th>Hero|Publisher</th>\n",
       "      <th>Gender</th>\n",
       "      <th>Race</th>\n",
       "      <th>Alignment</th>\n",
       "      <th>Hair color</th>\n",
       "      <th>Eye color</th>\n",
       "      <th>Skin color</th>\n",
       "      <th>Measurements</th>\n",
       "    </tr>\n",
       "  </thead>\n",
       "  <tbody>\n",
       "    <tr>\n",
       "      <th>0</th>\n",
       "      <td>A-Bomb|Marvel Comics</td>\n",
       "      <td>Male</td>\n",
       "      <td>Human</td>\n",
       "      <td>good</td>\n",
       "      <td>No Hair</td>\n",
       "      <td>yellow</td>\n",
       "      <td>Unknown</td>\n",
       "      <td>{'Height': '203.0 cm', 'Weight': '441.0 kg'}</td>\n",
       "    </tr>\n",
       "    <tr>\n",
       "      <th>1</th>\n",
       "      <td>Abe Sapien|Dark Horse Comics</td>\n",
       "      <td>Male</td>\n",
       "      <td>Icthyo Sapien</td>\n",
       "      <td>good</td>\n",
       "      <td>No Hair</td>\n",
       "      <td>blue</td>\n",
       "      <td>blue</td>\n",
       "      <td>{'Height': '191.0 cm', 'Weight': '65.0 kg'}</td>\n",
       "    </tr>\n",
       "  </tbody>\n",
       "</table>\n",
       "</div>"
      ],
      "text/plain": [
       "                 Hero|Publisher Gender           Race Alignment Hair color  \\\n",
       "0          A-Bomb|Marvel Comics   Male          Human      good    No Hair   \n",
       "1  Abe Sapien|Dark Horse Comics   Male  Icthyo Sapien      good    No Hair   \n",
       "\n",
       "  Eye color Skin color                                  Measurements  \n",
       "0    yellow    Unknown  {'Height': '203.0 cm', 'Weight': '441.0 kg'}  \n",
       "1      blue       blue   {'Height': '191.0 cm', 'Weight': '65.0 kg'}  "
      ]
     },
     "execution_count": 13,
     "metadata": {},
     "output_type": "execute_result"
    }
   ],
   "source": [
    "# Display the first (2) rows of the dataframe\n",
    "df_1.head(2)"
   ]
  },
  {
   "cell_type": "markdown",
   "id": "ae1fbd92",
   "metadata": {},
   "source": [
    "#### **Hero|Publisher column**"
   ]
  },
  {
   "cell_type": "code",
   "execution_count": 14,
   "id": "aaef8a15",
   "metadata": {
    "scrolled": false
   },
   "outputs": [
    {
     "data": {
      "text/html": [
       "<div>\n",
       "<style scoped>\n",
       "    .dataframe tbody tr th:only-of-type {\n",
       "        vertical-align: middle;\n",
       "    }\n",
       "\n",
       "    .dataframe tbody tr th {\n",
       "        vertical-align: top;\n",
       "    }\n",
       "\n",
       "    .dataframe thead th {\n",
       "        text-align: right;\n",
       "    }\n",
       "</style>\n",
       "<table border=\"1\" class=\"dataframe\">\n",
       "  <thead>\n",
       "    <tr style=\"text-align: right;\">\n",
       "      <th></th>\n",
       "      <th>0</th>\n",
       "      <th>1</th>\n",
       "    </tr>\n",
       "  </thead>\n",
       "  <tbody>\n",
       "    <tr>\n",
       "      <th>0</th>\n",
       "      <td>A-Bomb</td>\n",
       "      <td>Marvel Comics</td>\n",
       "    </tr>\n",
       "    <tr>\n",
       "      <th>1</th>\n",
       "      <td>Abe Sapien</td>\n",
       "      <td>Dark Horse Comics</td>\n",
       "    </tr>\n",
       "    <tr>\n",
       "      <th>2</th>\n",
       "      <td>Abin Sur</td>\n",
       "      <td>DC Comics</td>\n",
       "    </tr>\n",
       "    <tr>\n",
       "      <th>3</th>\n",
       "      <td>Abomination</td>\n",
       "      <td>Marvel Comics</td>\n",
       "    </tr>\n",
       "    <tr>\n",
       "      <th>4</th>\n",
       "      <td>Absorbing Man</td>\n",
       "      <td>Marvel Comics</td>\n",
       "    </tr>\n",
       "    <tr>\n",
       "      <th>...</th>\n",
       "      <td>...</td>\n",
       "      <td>...</td>\n",
       "    </tr>\n",
       "    <tr>\n",
       "      <th>458</th>\n",
       "      <td>Yellowjacket</td>\n",
       "      <td>Marvel Comics</td>\n",
       "    </tr>\n",
       "    <tr>\n",
       "      <th>459</th>\n",
       "      <td>Yellowjacket II</td>\n",
       "      <td>Marvel Comics</td>\n",
       "    </tr>\n",
       "    <tr>\n",
       "      <th>460</th>\n",
       "      <td>Yoda</td>\n",
       "      <td>George Lucas</td>\n",
       "    </tr>\n",
       "    <tr>\n",
       "      <th>461</th>\n",
       "      <td>Zatanna</td>\n",
       "      <td>DC Comics</td>\n",
       "    </tr>\n",
       "    <tr>\n",
       "      <th>462</th>\n",
       "      <td>Zoom</td>\n",
       "      <td>DC Comics</td>\n",
       "    </tr>\n",
       "  </tbody>\n",
       "</table>\n",
       "<p>463 rows × 2 columns</p>\n",
       "</div>"
      ],
      "text/plain": [
       "                   0                  1\n",
       "0             A-Bomb      Marvel Comics\n",
       "1         Abe Sapien  Dark Horse Comics\n",
       "2           Abin Sur          DC Comics\n",
       "3        Abomination      Marvel Comics\n",
       "4      Absorbing Man      Marvel Comics\n",
       "..               ...                ...\n",
       "458     Yellowjacket      Marvel Comics\n",
       "459  Yellowjacket II      Marvel Comics\n",
       "460             Yoda       George Lucas\n",
       "461          Zatanna          DC Comics\n",
       "462             Zoom          DC Comics\n",
       "\n",
       "[463 rows x 2 columns]"
      ]
     },
     "execution_count": 14,
     "metadata": {},
     "output_type": "execute_result"
    }
   ],
   "source": [
    "## adding expand=True\n",
    "df_1['Hero|Publisher'].str.split('|',expand=True)"
   ]
  },
  {
   "cell_type": "code",
   "execution_count": 15,
   "id": "df10013c",
   "metadata": {},
   "outputs": [],
   "source": [
    "## Save the 2 new columns into the dataframe\n",
    "df_1[['Name','Publisher']] = df_1['Hero|Publisher'].str.split('|', expand=True)"
   ]
  },
  {
   "cell_type": "code",
   "execution_count": 16,
   "id": "fad7d915",
   "metadata": {},
   "outputs": [],
   "source": [
    "## drop the original column \n",
    "df_1 = df_1.drop(columns=['Hero|Publisher'])"
   ]
  },
  {
   "cell_type": "code",
   "execution_count": 17,
   "id": "59b64701",
   "metadata": {},
   "outputs": [
    {
     "data": {
      "text/html": [
       "<div>\n",
       "<style scoped>\n",
       "    .dataframe tbody tr th:only-of-type {\n",
       "        vertical-align: middle;\n",
       "    }\n",
       "\n",
       "    .dataframe tbody tr th {\n",
       "        vertical-align: top;\n",
       "    }\n",
       "\n",
       "    .dataframe thead th {\n",
       "        text-align: right;\n",
       "    }\n",
       "</style>\n",
       "<table border=\"1\" class=\"dataframe\">\n",
       "  <thead>\n",
       "    <tr style=\"text-align: right;\">\n",
       "      <th></th>\n",
       "      <th>Gender</th>\n",
       "      <th>Race</th>\n",
       "      <th>Alignment</th>\n",
       "      <th>Hair color</th>\n",
       "      <th>Eye color</th>\n",
       "      <th>Skin color</th>\n",
       "      <th>Measurements</th>\n",
       "      <th>Name</th>\n",
       "      <th>Publisher</th>\n",
       "    </tr>\n",
       "  </thead>\n",
       "  <tbody>\n",
       "    <tr>\n",
       "      <th>0</th>\n",
       "      <td>Male</td>\n",
       "      <td>Human</td>\n",
       "      <td>good</td>\n",
       "      <td>No Hair</td>\n",
       "      <td>yellow</td>\n",
       "      <td>Unknown</td>\n",
       "      <td>{'Height': '203.0 cm', 'Weight': '441.0 kg'}</td>\n",
       "      <td>A-Bomb</td>\n",
       "      <td>Marvel Comics</td>\n",
       "    </tr>\n",
       "    <tr>\n",
       "      <th>1</th>\n",
       "      <td>Male</td>\n",
       "      <td>Icthyo Sapien</td>\n",
       "      <td>good</td>\n",
       "      <td>No Hair</td>\n",
       "      <td>blue</td>\n",
       "      <td>blue</td>\n",
       "      <td>{'Height': '191.0 cm', 'Weight': '65.0 kg'}</td>\n",
       "      <td>Abe Sapien</td>\n",
       "      <td>Dark Horse Comics</td>\n",
       "    </tr>\n",
       "  </tbody>\n",
       "</table>\n",
       "</div>"
      ],
      "text/plain": [
       "  Gender           Race Alignment Hair color Eye color Skin color  \\\n",
       "0   Male          Human      good    No Hair    yellow    Unknown   \n",
       "1   Male  Icthyo Sapien      good    No Hair      blue       blue   \n",
       "\n",
       "                                   Measurements        Name          Publisher  \n",
       "0  {'Height': '203.0 cm', 'Weight': '441.0 kg'}      A-Bomb      Marvel Comics  \n",
       "1   {'Height': '191.0 cm', 'Weight': '65.0 kg'}  Abe Sapien  Dark Horse Comics  "
      ]
     },
     "execution_count": 17,
     "metadata": {},
     "output_type": "execute_result"
    }
   ],
   "source": [
    "# Display the first (2) rows of the dataframe\n",
    "df_1.head(2)"
   ]
  },
  {
   "cell_type": "code",
   "execution_count": 18,
   "id": "2bde14e2",
   "metadata": {},
   "outputs": [],
   "source": [
    "# Pop Name column\n",
    "first_column = df_1.pop('Name')"
   ]
  },
  {
   "cell_type": "code",
   "execution_count": 19,
   "id": "2e4ae011",
   "metadata": {},
   "outputs": [],
   "source": [
    "# Insert Name column as the first column\n",
    "df_1.insert(0, 'Name', first_column)"
   ]
  },
  {
   "cell_type": "code",
   "execution_count": 20,
   "id": "887ae755",
   "metadata": {},
   "outputs": [
    {
     "data": {
      "text/html": [
       "<div>\n",
       "<style scoped>\n",
       "    .dataframe tbody tr th:only-of-type {\n",
       "        vertical-align: middle;\n",
       "    }\n",
       "\n",
       "    .dataframe tbody tr th {\n",
       "        vertical-align: top;\n",
       "    }\n",
       "\n",
       "    .dataframe thead th {\n",
       "        text-align: right;\n",
       "    }\n",
       "</style>\n",
       "<table border=\"1\" class=\"dataframe\">\n",
       "  <thead>\n",
       "    <tr style=\"text-align: right;\">\n",
       "      <th></th>\n",
       "      <th>Name</th>\n",
       "      <th>Gender</th>\n",
       "      <th>Race</th>\n",
       "      <th>Alignment</th>\n",
       "      <th>Hair color</th>\n",
       "      <th>Eye color</th>\n",
       "      <th>Skin color</th>\n",
       "      <th>Measurements</th>\n",
       "      <th>Publisher</th>\n",
       "    </tr>\n",
       "  </thead>\n",
       "  <tbody>\n",
       "    <tr>\n",
       "      <th>0</th>\n",
       "      <td>A-Bomb</td>\n",
       "      <td>Male</td>\n",
       "      <td>Human</td>\n",
       "      <td>good</td>\n",
       "      <td>No Hair</td>\n",
       "      <td>yellow</td>\n",
       "      <td>Unknown</td>\n",
       "      <td>{'Height': '203.0 cm', 'Weight': '441.0 kg'}</td>\n",
       "      <td>Marvel Comics</td>\n",
       "    </tr>\n",
       "    <tr>\n",
       "      <th>1</th>\n",
       "      <td>Abe Sapien</td>\n",
       "      <td>Male</td>\n",
       "      <td>Icthyo Sapien</td>\n",
       "      <td>good</td>\n",
       "      <td>No Hair</td>\n",
       "      <td>blue</td>\n",
       "      <td>blue</td>\n",
       "      <td>{'Height': '191.0 cm', 'Weight': '65.0 kg'}</td>\n",
       "      <td>Dark Horse Comics</td>\n",
       "    </tr>\n",
       "  </tbody>\n",
       "</table>\n",
       "</div>"
      ],
      "text/plain": [
       "         Name Gender           Race Alignment Hair color Eye color Skin color  \\\n",
       "0      A-Bomb   Male          Human      good    No Hair    yellow    Unknown   \n",
       "1  Abe Sapien   Male  Icthyo Sapien      good    No Hair      blue       blue   \n",
       "\n",
       "                                   Measurements          Publisher  \n",
       "0  {'Height': '203.0 cm', 'Weight': '441.0 kg'}      Marvel Comics  \n",
       "1   {'Height': '191.0 cm', 'Weight': '65.0 kg'}  Dark Horse Comics  "
      ]
     },
     "execution_count": 20,
     "metadata": {},
     "output_type": "execute_result"
    }
   ],
   "source": [
    "# Display the first (2) rows of the dataframe\n",
    "df_1.head(2)"
   ]
  },
  {
   "cell_type": "markdown",
   "id": "d7416814",
   "metadata": {},
   "source": [
    "#### **Measurements column**"
   ]
  },
  {
   "cell_type": "markdown",
   "id": "b097c2a7",
   "metadata": {},
   "source": [
    "##### **Convert column sample from string to dictionary**"
   ]
  },
  {
   "cell_type": "code",
   "execution_count": 21,
   "id": "0a0a28f8",
   "metadata": {},
   "outputs": [],
   "source": [
    "# Create a sample value\n",
    "test_msm = df_1.loc[0, 'Measurements']"
   ]
  },
  {
   "cell_type": "code",
   "execution_count": 22,
   "id": "4fbbe5b2",
   "metadata": {},
   "outputs": [
    {
     "name": "stdout",
     "output_type": "stream",
     "text": [
      "<class 'str'>\n"
     ]
    },
    {
     "data": {
      "text/plain": [
       "\"{'Height': '203.0 cm', 'Weight': '441.0 kg'}\""
      ]
     },
     "execution_count": 22,
     "metadata": {},
     "output_type": "execute_result"
    }
   ],
   "source": [
    "# Display the sample value's datatype and the sample value\n",
    "print(type(test_msm))\n",
    "test_msm"
   ]
  },
  {
   "cell_type": "code",
   "execution_count": 23,
   "id": "5c4a30a9",
   "metadata": {},
   "outputs": [
    {
     "data": {
      "text/plain": [
       "'{\"Height\": \"203.0 cm\", \"Weight\": \"441.0 kg\"}'"
      ]
     },
     "execution_count": 23,
     "metadata": {},
     "output_type": "execute_result"
    }
   ],
   "source": [
    "# Replace single quotation with the double quotation marks\n",
    "test_msm = test_msm.replace(\"'\",'\"')\n",
    "test_msm"
   ]
  },
  {
   "cell_type": "code",
   "execution_count": 24,
   "id": "92f8bb6c",
   "metadata": {},
   "outputs": [
    {
     "name": "stdout",
     "output_type": "stream",
     "text": [
      "<class 'dict'>\n"
     ]
    },
    {
     "data": {
      "text/plain": [
       "{'Height': '203.0 cm', 'Weight': '441.0 kg'}"
      ]
     },
     "execution_count": 24,
     "metadata": {},
     "output_type": "execute_result"
    }
   ],
   "source": [
    "# Convert string to dictionary\n",
    "test_msm = json.loads(test_msm)\n",
    "print(type(test_msm))\n",
    "test_msm"
   ]
  },
  {
   "cell_type": "markdown",
   "id": "c12c00fe",
   "metadata": {},
   "source": [
    "##### **Convert entire column from string to dictionary**"
   ]
  },
  {
   "cell_type": "code",
   "execution_count": 25,
   "id": "7e496419",
   "metadata": {},
   "outputs": [
    {
     "data": {
      "text/plain": [
       "0    {'Height': '203.0 cm', 'Weight': '441.0 kg'}\n",
       "1     {'Height': '191.0 cm', 'Weight': '65.0 kg'}\n",
       "2     {'Height': '185.0 cm', 'Weight': '90.0 kg'}\n",
       "3    {'Height': '203.0 cm', 'Weight': '441.0 kg'}\n",
       "4    {'Height': '193.0 cm', 'Weight': '122.0 kg'}\n",
       "Name: Measurements, dtype: object"
      ]
     },
     "execution_count": 25,
     "metadata": {},
     "output_type": "execute_result"
    }
   ],
   "source": [
    "# Use .str.replace to replace all single quotes\n",
    "df_1['Measurements'] = df_1['Measurements'].str.replace(\"'\",'\"')\n",
    "# Apply the json.loads to the full column\n",
    "df_1['Measurements'] = df_1['Measurements'].apply(json.loads)\n",
    "df_1['Measurements'].head()"
   ]
  },
  {
   "cell_type": "code",
   "execution_count": 26,
   "id": "9ce0d86d",
   "metadata": {},
   "outputs": [
    {
     "name": "stdout",
     "output_type": "stream",
     "text": [
      "<class 'dict'>\n"
     ]
    },
    {
     "data": {
      "text/plain": [
       "{'Height': '203.0 cm', 'Weight': '441.0 kg'}"
      ]
     },
     "execution_count": 26,
     "metadata": {},
     "output_type": "execute_result"
    }
   ],
   "source": [
    "# Check a sample value after transformation\n",
    "test_msm = df_1.loc[0, 'Measurements']\n",
    "# Display the sample's datatype and the sample\n",
    "print(type(test_msm))\n",
    "test_msm"
   ]
  },
  {
   "cell_type": "markdown",
   "id": "3780362f",
   "metadata": {},
   "source": [
    "##### **Unpack Measurements column of dictionaries into separate columns**"
   ]
  },
  {
   "cell_type": "code",
   "execution_count": 27,
   "id": "6d5eb630",
   "metadata": {
    "scrolled": true
   },
   "outputs": [
    {
     "data": {
      "text/html": [
       "<div>\n",
       "<style scoped>\n",
       "    .dataframe tbody tr th:only-of-type {\n",
       "        vertical-align: middle;\n",
       "    }\n",
       "\n",
       "    .dataframe tbody tr th {\n",
       "        vertical-align: top;\n",
       "    }\n",
       "\n",
       "    .dataframe thead th {\n",
       "        text-align: right;\n",
       "    }\n",
       "</style>\n",
       "<table border=\"1\" class=\"dataframe\">\n",
       "  <thead>\n",
       "    <tr style=\"text-align: right;\">\n",
       "      <th></th>\n",
       "      <th>Height</th>\n",
       "      <th>Weight</th>\n",
       "    </tr>\n",
       "  </thead>\n",
       "  <tbody>\n",
       "    <tr>\n",
       "      <th>0</th>\n",
       "      <td>203.0 cm</td>\n",
       "      <td>441.0 kg</td>\n",
       "    </tr>\n",
       "    <tr>\n",
       "      <th>1</th>\n",
       "      <td>191.0 cm</td>\n",
       "      <td>65.0 kg</td>\n",
       "    </tr>\n",
       "    <tr>\n",
       "      <th>2</th>\n",
       "      <td>185.0 cm</td>\n",
       "      <td>90.0 kg</td>\n",
       "    </tr>\n",
       "    <tr>\n",
       "      <th>3</th>\n",
       "      <td>203.0 cm</td>\n",
       "      <td>441.0 kg</td>\n",
       "    </tr>\n",
       "    <tr>\n",
       "      <th>4</th>\n",
       "      <td>193.0 cm</td>\n",
       "      <td>122.0 kg</td>\n",
       "    </tr>\n",
       "  </tbody>\n",
       "</table>\n",
       "</div>"
      ],
      "text/plain": [
       "     Height    Weight\n",
       "0  203.0 cm  441.0 kg\n",
       "1  191.0 cm   65.0 kg\n",
       "2  185.0 cm   90.0 kg\n",
       "3  203.0 cm  441.0 kg\n",
       "4  193.0 cm  122.0 kg"
      ]
     },
     "execution_count": 27,
     "metadata": {},
     "output_type": "execute_result"
    }
   ],
   "source": [
    "# Unpack height_weight into a pandas series\n",
    "height_weight = df_1['Measurements'].apply(pd.Series)\n",
    "# Display the pandas series\n",
    "height_weight.head()"
   ]
  },
  {
   "cell_type": "code",
   "execution_count": 28,
   "id": "17df42b9",
   "metadata": {},
   "outputs": [
    {
     "data": {
      "text/html": [
       "<div>\n",
       "<style scoped>\n",
       "    .dataframe tbody tr th:only-of-type {\n",
       "        vertical-align: middle;\n",
       "    }\n",
       "\n",
       "    .dataframe tbody tr th {\n",
       "        vertical-align: top;\n",
       "    }\n",
       "\n",
       "    .dataframe thead th {\n",
       "        text-align: right;\n",
       "    }\n",
       "</style>\n",
       "<table border=\"1\" class=\"dataframe\">\n",
       "  <thead>\n",
       "    <tr style=\"text-align: right;\">\n",
       "      <th></th>\n",
       "      <th>Name</th>\n",
       "      <th>Gender</th>\n",
       "      <th>Race</th>\n",
       "      <th>Alignment</th>\n",
       "      <th>Hair color</th>\n",
       "      <th>Eye color</th>\n",
       "      <th>Skin color</th>\n",
       "      <th>Measurements</th>\n",
       "      <th>Publisher</th>\n",
       "      <th>Height</th>\n",
       "      <th>Weight</th>\n",
       "    </tr>\n",
       "  </thead>\n",
       "  <tbody>\n",
       "    <tr>\n",
       "      <th>0</th>\n",
       "      <td>A-Bomb</td>\n",
       "      <td>Male</td>\n",
       "      <td>Human</td>\n",
       "      <td>good</td>\n",
       "      <td>No Hair</td>\n",
       "      <td>yellow</td>\n",
       "      <td>Unknown</td>\n",
       "      <td>{'Height': '203.0 cm', 'Weight': '441.0 kg'}</td>\n",
       "      <td>Marvel Comics</td>\n",
       "      <td>203.0 cm</td>\n",
       "      <td>441.0 kg</td>\n",
       "    </tr>\n",
       "    <tr>\n",
       "      <th>1</th>\n",
       "      <td>Abe Sapien</td>\n",
       "      <td>Male</td>\n",
       "      <td>Icthyo Sapien</td>\n",
       "      <td>good</td>\n",
       "      <td>No Hair</td>\n",
       "      <td>blue</td>\n",
       "      <td>blue</td>\n",
       "      <td>{'Height': '191.0 cm', 'Weight': '65.0 kg'}</td>\n",
       "      <td>Dark Horse Comics</td>\n",
       "      <td>191.0 cm</td>\n",
       "      <td>65.0 kg</td>\n",
       "    </tr>\n",
       "    <tr>\n",
       "      <th>2</th>\n",
       "      <td>Abin Sur</td>\n",
       "      <td>Male</td>\n",
       "      <td>Ungaran</td>\n",
       "      <td>good</td>\n",
       "      <td>No Hair</td>\n",
       "      <td>blue</td>\n",
       "      <td>red</td>\n",
       "      <td>{'Height': '185.0 cm', 'Weight': '90.0 kg'}</td>\n",
       "      <td>DC Comics</td>\n",
       "      <td>185.0 cm</td>\n",
       "      <td>90.0 kg</td>\n",
       "    </tr>\n",
       "    <tr>\n",
       "      <th>3</th>\n",
       "      <td>Abomination</td>\n",
       "      <td>Male</td>\n",
       "      <td>Human / Radiation</td>\n",
       "      <td>bad</td>\n",
       "      <td>No Hair</td>\n",
       "      <td>green</td>\n",
       "      <td>Unknown</td>\n",
       "      <td>{'Height': '203.0 cm', 'Weight': '441.0 kg'}</td>\n",
       "      <td>Marvel Comics</td>\n",
       "      <td>203.0 cm</td>\n",
       "      <td>441.0 kg</td>\n",
       "    </tr>\n",
       "    <tr>\n",
       "      <th>4</th>\n",
       "      <td>Absorbing Man</td>\n",
       "      <td>Male</td>\n",
       "      <td>Human</td>\n",
       "      <td>bad</td>\n",
       "      <td>No Hair</td>\n",
       "      <td>blue</td>\n",
       "      <td>Unknown</td>\n",
       "      <td>{'Height': '193.0 cm', 'Weight': '122.0 kg'}</td>\n",
       "      <td>Marvel Comics</td>\n",
       "      <td>193.0 cm</td>\n",
       "      <td>122.0 kg</td>\n",
       "    </tr>\n",
       "  </tbody>\n",
       "</table>\n",
       "</div>"
      ],
      "text/plain": [
       "            Name Gender               Race Alignment Hair color Eye color  \\\n",
       "0         A-Bomb   Male              Human      good    No Hair    yellow   \n",
       "1     Abe Sapien   Male      Icthyo Sapien      good    No Hair      blue   \n",
       "2       Abin Sur   Male            Ungaran      good    No Hair      blue   \n",
       "3    Abomination   Male  Human / Radiation       bad    No Hair     green   \n",
       "4  Absorbing Man   Male              Human       bad    No Hair      blue   \n",
       "\n",
       "  Skin color                                  Measurements          Publisher  \\\n",
       "0    Unknown  {'Height': '203.0 cm', 'Weight': '441.0 kg'}      Marvel Comics   \n",
       "1       blue   {'Height': '191.0 cm', 'Weight': '65.0 kg'}  Dark Horse Comics   \n",
       "2        red   {'Height': '185.0 cm', 'Weight': '90.0 kg'}          DC Comics   \n",
       "3    Unknown  {'Height': '203.0 cm', 'Weight': '441.0 kg'}      Marvel Comics   \n",
       "4    Unknown  {'Height': '193.0 cm', 'Weight': '122.0 kg'}      Marvel Comics   \n",
       "\n",
       "     Height    Weight  \n",
       "0  203.0 cm  441.0 kg  \n",
       "1  191.0 cm   65.0 kg  \n",
       "2  185.0 cm   90.0 kg  \n",
       "3  203.0 cm  441.0 kg  \n",
       "4  193.0 cm  122.0 kg  "
      ]
     },
     "execution_count": 28,
     "metadata": {},
     "output_type": "execute_result"
    }
   ],
   "source": [
    "# Concat Height and Weight columns to the dataframe\n",
    "df_1 = pd.concat((df_1, height_weight), axis = 1)\n",
    "df_1.head()"
   ]
  },
  {
   "cell_type": "code",
   "execution_count": 29,
   "id": "ca21975d",
   "metadata": {
    "scrolled": false
   },
   "outputs": [],
   "source": [
    "# Drop Measurements column which has been replaced by Height and Weight\n",
    "df_1 = df_1.drop(columns=['Measurements'])"
   ]
  },
  {
   "cell_type": "code",
   "execution_count": 30,
   "id": "726277dc",
   "metadata": {},
   "outputs": [
    {
     "data": {
      "text/html": [
       "<div>\n",
       "<style scoped>\n",
       "    .dataframe tbody tr th:only-of-type {\n",
       "        vertical-align: middle;\n",
       "    }\n",
       "\n",
       "    .dataframe tbody tr th {\n",
       "        vertical-align: top;\n",
       "    }\n",
       "\n",
       "    .dataframe thead th {\n",
       "        text-align: right;\n",
       "    }\n",
       "</style>\n",
       "<table border=\"1\" class=\"dataframe\">\n",
       "  <thead>\n",
       "    <tr style=\"text-align: right;\">\n",
       "      <th></th>\n",
       "      <th>Name</th>\n",
       "      <th>Gender</th>\n",
       "      <th>Race</th>\n",
       "      <th>Alignment</th>\n",
       "      <th>Hair color</th>\n",
       "      <th>Eye color</th>\n",
       "      <th>Skin color</th>\n",
       "      <th>Publisher</th>\n",
       "      <th>Height</th>\n",
       "      <th>Weight</th>\n",
       "    </tr>\n",
       "  </thead>\n",
       "  <tbody>\n",
       "    <tr>\n",
       "      <th>0</th>\n",
       "      <td>A-Bomb</td>\n",
       "      <td>Male</td>\n",
       "      <td>Human</td>\n",
       "      <td>good</td>\n",
       "      <td>No Hair</td>\n",
       "      <td>yellow</td>\n",
       "      <td>Unknown</td>\n",
       "      <td>Marvel Comics</td>\n",
       "      <td>203.0 cm</td>\n",
       "      <td>441.0 kg</td>\n",
       "    </tr>\n",
       "    <tr>\n",
       "      <th>1</th>\n",
       "      <td>Abe Sapien</td>\n",
       "      <td>Male</td>\n",
       "      <td>Icthyo Sapien</td>\n",
       "      <td>good</td>\n",
       "      <td>No Hair</td>\n",
       "      <td>blue</td>\n",
       "      <td>blue</td>\n",
       "      <td>Dark Horse Comics</td>\n",
       "      <td>191.0 cm</td>\n",
       "      <td>65.0 kg</td>\n",
       "    </tr>\n",
       "    <tr>\n",
       "      <th>2</th>\n",
       "      <td>Abin Sur</td>\n",
       "      <td>Male</td>\n",
       "      <td>Ungaran</td>\n",
       "      <td>good</td>\n",
       "      <td>No Hair</td>\n",
       "      <td>blue</td>\n",
       "      <td>red</td>\n",
       "      <td>DC Comics</td>\n",
       "      <td>185.0 cm</td>\n",
       "      <td>90.0 kg</td>\n",
       "    </tr>\n",
       "    <tr>\n",
       "      <th>3</th>\n",
       "      <td>Abomination</td>\n",
       "      <td>Male</td>\n",
       "      <td>Human / Radiation</td>\n",
       "      <td>bad</td>\n",
       "      <td>No Hair</td>\n",
       "      <td>green</td>\n",
       "      <td>Unknown</td>\n",
       "      <td>Marvel Comics</td>\n",
       "      <td>203.0 cm</td>\n",
       "      <td>441.0 kg</td>\n",
       "    </tr>\n",
       "    <tr>\n",
       "      <th>4</th>\n",
       "      <td>Absorbing Man</td>\n",
       "      <td>Male</td>\n",
       "      <td>Human</td>\n",
       "      <td>bad</td>\n",
       "      <td>No Hair</td>\n",
       "      <td>blue</td>\n",
       "      <td>Unknown</td>\n",
       "      <td>Marvel Comics</td>\n",
       "      <td>193.0 cm</td>\n",
       "      <td>122.0 kg</td>\n",
       "    </tr>\n",
       "  </tbody>\n",
       "</table>\n",
       "</div>"
      ],
      "text/plain": [
       "            Name Gender               Race Alignment Hair color Eye color  \\\n",
       "0         A-Bomb   Male              Human      good    No Hair    yellow   \n",
       "1     Abe Sapien   Male      Icthyo Sapien      good    No Hair      blue   \n",
       "2       Abin Sur   Male            Ungaran      good    No Hair      blue   \n",
       "3    Abomination   Male  Human / Radiation       bad    No Hair     green   \n",
       "4  Absorbing Man   Male              Human       bad    No Hair      blue   \n",
       "\n",
       "  Skin color          Publisher    Height    Weight  \n",
       "0    Unknown      Marvel Comics  203.0 cm  441.0 kg  \n",
       "1       blue  Dark Horse Comics  191.0 cm   65.0 kg  \n",
       "2        red          DC Comics  185.0 cm   90.0 kg  \n",
       "3    Unknown      Marvel Comics  203.0 cm  441.0 kg  \n",
       "4    Unknown      Marvel Comics  193.0 cm  122.0 kg  "
      ]
     },
     "execution_count": 30,
     "metadata": {},
     "output_type": "execute_result"
    }
   ],
   "source": [
    "# Confirm Measurements column has been removed\n",
    "df_1.head()"
   ]
  },
  {
   "cell_type": "markdown",
   "id": "8e52394d",
   "metadata": {},
   "source": [
    "#### **Height column**"
   ]
  },
  {
   "cell_type": "code",
   "execution_count": 31,
   "id": "482bbf52",
   "metadata": {},
   "outputs": [],
   "source": [
    "# Remove spaces and unit of measures\n",
    "to_replace = [' ', 'cm']\n",
    "for char in to_replace:\n",
    "    df_1['Height'] = df_1['Height'].str.replace(char, '', regex=False)"
   ]
  },
  {
   "cell_type": "code",
   "execution_count": 32,
   "id": "902bf4de",
   "metadata": {},
   "outputs": [
    {
     "data": {
      "text/plain": [
       "0    203.0\n",
       "1    191.0\n",
       "2    185.0\n",
       "3    203.0\n",
       "4    193.0\n",
       "Name: Height, dtype: object"
      ]
     },
     "execution_count": 32,
     "metadata": {},
     "output_type": "execute_result"
    }
   ],
   "source": [
    "# Confirm spaces and units of measure have been removed\n",
    "df_1['Height'].head()"
   ]
  },
  {
   "cell_type": "code",
   "execution_count": 33,
   "id": "36ab4f86",
   "metadata": {},
   "outputs": [],
   "source": [
    "# Convert Weight column to integer datatype\n",
    "df_1[\"Height\"] =pd.to_numeric(df_1[\"Height\"]).astype(int)"
   ]
  },
  {
   "cell_type": "code",
   "execution_count": 34,
   "id": "b90e6f99",
   "metadata": {
    "scrolled": false
   },
   "outputs": [
    {
     "data": {
      "text/plain": [
       "dtype('int32')"
      ]
     },
     "execution_count": 34,
     "metadata": {},
     "output_type": "execute_result"
    }
   ],
   "source": [
    "# Confirm column datatype has been updated to an integer datatype\n",
    "df_1[\"Height\"].dtype"
   ]
  },
  {
   "cell_type": "markdown",
   "id": "96c17298",
   "metadata": {},
   "source": [
    "#### **Weight column**"
   ]
  },
  {
   "cell_type": "code",
   "execution_count": 35,
   "id": "fbb76726",
   "metadata": {},
   "outputs": [],
   "source": [
    "# Remove spaces and unit of measures\n",
    "to_replace = [' ', 'kg']\n",
    "for char in to_replace:\n",
    "    df_1['Weight'] = df_1['Weight'].str.replace(char, '', regex=False)"
   ]
  },
  {
   "cell_type": "code",
   "execution_count": 36,
   "id": "7bed311c",
   "metadata": {},
   "outputs": [
    {
     "data": {
      "text/plain": [
       "0    441.0\n",
       "1     65.0\n",
       "2     90.0\n",
       "3    441.0\n",
       "4    122.0\n",
       "Name: Weight, dtype: object"
      ]
     },
     "execution_count": 36,
     "metadata": {},
     "output_type": "execute_result"
    }
   ],
   "source": [
    "# Confirm spaces and units of measure have been removed\n",
    "df_1['Weight'].head()"
   ]
  },
  {
   "cell_type": "code",
   "execution_count": 37,
   "id": "543e2aa9",
   "metadata": {},
   "outputs": [],
   "source": [
    "# Convert Weight column to integer datatype\n",
    "df_1[\"Weight\"] =pd.to_numeric(df_1[\"Weight\"]).astype(int)"
   ]
  },
  {
   "cell_type": "code",
   "execution_count": 38,
   "id": "6b51a742",
   "metadata": {},
   "outputs": [
    {
     "data": {
      "text/plain": [
       "dtype('int32')"
      ]
     },
     "execution_count": 38,
     "metadata": {},
     "output_type": "execute_result"
    }
   ],
   "source": [
    "# Confirm column datatype has been updated to an integer datatype\n",
    "df_1[\"Weight\"].dtype"
   ]
  },
  {
   "cell_type": "markdown",
   "id": "58a51d94",
   "metadata": {},
   "source": [
    "#### **Confirm dataframe has been transformed**"
   ]
  },
  {
   "cell_type": "code",
   "execution_count": 39,
   "id": "6883db33",
   "metadata": {},
   "outputs": [
    {
     "data": {
      "text/html": [
       "<div>\n",
       "<style scoped>\n",
       "    .dataframe tbody tr th:only-of-type {\n",
       "        vertical-align: middle;\n",
       "    }\n",
       "\n",
       "    .dataframe tbody tr th {\n",
       "        vertical-align: top;\n",
       "    }\n",
       "\n",
       "    .dataframe thead th {\n",
       "        text-align: right;\n",
       "    }\n",
       "</style>\n",
       "<table border=\"1\" class=\"dataframe\">\n",
       "  <thead>\n",
       "    <tr style=\"text-align: right;\">\n",
       "      <th></th>\n",
       "      <th>Name</th>\n",
       "      <th>Gender</th>\n",
       "      <th>Race</th>\n",
       "      <th>Alignment</th>\n",
       "      <th>Hair color</th>\n",
       "      <th>Eye color</th>\n",
       "      <th>Skin color</th>\n",
       "      <th>Publisher</th>\n",
       "      <th>Height</th>\n",
       "      <th>Weight</th>\n",
       "    </tr>\n",
       "  </thead>\n",
       "  <tbody>\n",
       "    <tr>\n",
       "      <th>0</th>\n",
       "      <td>A-Bomb</td>\n",
       "      <td>Male</td>\n",
       "      <td>Human</td>\n",
       "      <td>good</td>\n",
       "      <td>No Hair</td>\n",
       "      <td>yellow</td>\n",
       "      <td>Unknown</td>\n",
       "      <td>Marvel Comics</td>\n",
       "      <td>203</td>\n",
       "      <td>441</td>\n",
       "    </tr>\n",
       "    <tr>\n",
       "      <th>1</th>\n",
       "      <td>Abe Sapien</td>\n",
       "      <td>Male</td>\n",
       "      <td>Icthyo Sapien</td>\n",
       "      <td>good</td>\n",
       "      <td>No Hair</td>\n",
       "      <td>blue</td>\n",
       "      <td>blue</td>\n",
       "      <td>Dark Horse Comics</td>\n",
       "      <td>191</td>\n",
       "      <td>65</td>\n",
       "    </tr>\n",
       "    <tr>\n",
       "      <th>2</th>\n",
       "      <td>Abin Sur</td>\n",
       "      <td>Male</td>\n",
       "      <td>Ungaran</td>\n",
       "      <td>good</td>\n",
       "      <td>No Hair</td>\n",
       "      <td>blue</td>\n",
       "      <td>red</td>\n",
       "      <td>DC Comics</td>\n",
       "      <td>185</td>\n",
       "      <td>90</td>\n",
       "    </tr>\n",
       "    <tr>\n",
       "      <th>3</th>\n",
       "      <td>Abomination</td>\n",
       "      <td>Male</td>\n",
       "      <td>Human / Radiation</td>\n",
       "      <td>bad</td>\n",
       "      <td>No Hair</td>\n",
       "      <td>green</td>\n",
       "      <td>Unknown</td>\n",
       "      <td>Marvel Comics</td>\n",
       "      <td>203</td>\n",
       "      <td>441</td>\n",
       "    </tr>\n",
       "    <tr>\n",
       "      <th>4</th>\n",
       "      <td>Absorbing Man</td>\n",
       "      <td>Male</td>\n",
       "      <td>Human</td>\n",
       "      <td>bad</td>\n",
       "      <td>No Hair</td>\n",
       "      <td>blue</td>\n",
       "      <td>Unknown</td>\n",
       "      <td>Marvel Comics</td>\n",
       "      <td>193</td>\n",
       "      <td>122</td>\n",
       "    </tr>\n",
       "  </tbody>\n",
       "</table>\n",
       "</div>"
      ],
      "text/plain": [
       "            Name Gender               Race Alignment Hair color Eye color  \\\n",
       "0         A-Bomb   Male              Human      good    No Hair    yellow   \n",
       "1     Abe Sapien   Male      Icthyo Sapien      good    No Hair      blue   \n",
       "2       Abin Sur   Male            Ungaran      good    No Hair      blue   \n",
       "3    Abomination   Male  Human / Radiation       bad    No Hair     green   \n",
       "4  Absorbing Man   Male              Human       bad    No Hair      blue   \n",
       "\n",
       "  Skin color          Publisher  Height  Weight  \n",
       "0    Unknown      Marvel Comics     203     441  \n",
       "1       blue  Dark Horse Comics     191      65  \n",
       "2        red          DC Comics     185      90  \n",
       "3    Unknown      Marvel Comics     203     441  \n",
       "4    Unknown      Marvel Comics     193     122  "
      ]
     },
     "execution_count": 39,
     "metadata": {},
     "output_type": "execute_result"
    }
   ],
   "source": [
    "# Display transformed dataframe\n",
    "df_1.head()"
   ]
  },
  {
   "cell_type": "markdown",
   "id": "115fb13f",
   "metadata": {},
   "source": [
    "### **Superhero_powers**"
   ]
  },
  {
   "cell_type": "markdown",
   "id": "678339ab",
   "metadata": {},
   "source": [
    "#### **hero_names column**"
   ]
  },
  {
   "cell_type": "code",
   "execution_count": 40,
   "id": "f7421110",
   "metadata": {},
   "outputs": [
    {
     "data": {
      "text/html": [
       "<div>\n",
       "<style scoped>\n",
       "    .dataframe tbody tr th:only-of-type {\n",
       "        vertical-align: middle;\n",
       "    }\n",
       "\n",
       "    .dataframe tbody tr th {\n",
       "        vertical-align: top;\n",
       "    }\n",
       "\n",
       "    .dataframe thead th {\n",
       "        text-align: right;\n",
       "    }\n",
       "</style>\n",
       "<table border=\"1\" class=\"dataframe\">\n",
       "  <thead>\n",
       "    <tr style=\"text-align: right;\">\n",
       "      <th></th>\n",
       "      <th>hero_names</th>\n",
       "      <th>Powers</th>\n",
       "    </tr>\n",
       "  </thead>\n",
       "  <tbody>\n",
       "    <tr>\n",
       "      <th>0</th>\n",
       "      <td>3-D Man</td>\n",
       "      <td>Agility,Super Strength,Stamina,Super Speed</td>\n",
       "    </tr>\n",
       "    <tr>\n",
       "      <th>1</th>\n",
       "      <td>A-Bomb</td>\n",
       "      <td>Accelerated Healing,Durability,Longevity,Super...</td>\n",
       "    </tr>\n",
       "    <tr>\n",
       "      <th>2</th>\n",
       "      <td>Abe Sapien</td>\n",
       "      <td>Agility,Accelerated Healing,Cold Resistance,Du...</td>\n",
       "    </tr>\n",
       "    <tr>\n",
       "      <th>3</th>\n",
       "      <td>Abin Sur</td>\n",
       "      <td>Lantern Power Ring</td>\n",
       "    </tr>\n",
       "    <tr>\n",
       "      <th>4</th>\n",
       "      <td>Abomination</td>\n",
       "      <td>Accelerated Healing,Intelligence,Super Strengt...</td>\n",
       "    </tr>\n",
       "  </tbody>\n",
       "</table>\n",
       "</div>"
      ],
      "text/plain": [
       "    hero_names                                             Powers\n",
       "0      3-D Man         Agility,Super Strength,Stamina,Super Speed\n",
       "1       A-Bomb  Accelerated Healing,Durability,Longevity,Super...\n",
       "2   Abe Sapien  Agility,Accelerated Healing,Cold Resistance,Du...\n",
       "3     Abin Sur                                 Lantern Power Ring\n",
       "4  Abomination  Accelerated Healing,Intelligence,Super Strengt..."
      ]
     },
     "execution_count": 40,
     "metadata": {},
     "output_type": "execute_result"
    }
   ],
   "source": [
    "# Display the first (5) rows of the dataframe\n",
    "df_2.head()"
   ]
  },
  {
   "cell_type": "code",
   "execution_count": 41,
   "id": "956cab54",
   "metadata": {},
   "outputs": [],
   "source": [
    "# Rename column to align with df_1 column name\n",
    "df_2 = df_2.rename(columns = {\"hero_names\": \"Name\"})"
   ]
  },
  {
   "cell_type": "code",
   "execution_count": 42,
   "id": "6a743ca9",
   "metadata": {},
   "outputs": [
    {
     "data": {
      "text/html": [
       "<div>\n",
       "<style scoped>\n",
       "    .dataframe tbody tr th:only-of-type {\n",
       "        vertical-align: middle;\n",
       "    }\n",
       "\n",
       "    .dataframe tbody tr th {\n",
       "        vertical-align: top;\n",
       "    }\n",
       "\n",
       "    .dataframe thead th {\n",
       "        text-align: right;\n",
       "    }\n",
       "</style>\n",
       "<table border=\"1\" class=\"dataframe\">\n",
       "  <thead>\n",
       "    <tr style=\"text-align: right;\">\n",
       "      <th></th>\n",
       "      <th>Name</th>\n",
       "      <th>Powers</th>\n",
       "    </tr>\n",
       "  </thead>\n",
       "  <tbody>\n",
       "    <tr>\n",
       "      <th>0</th>\n",
       "      <td>3-D Man</td>\n",
       "      <td>Agility,Super Strength,Stamina,Super Speed</td>\n",
       "    </tr>\n",
       "    <tr>\n",
       "      <th>1</th>\n",
       "      <td>A-Bomb</td>\n",
       "      <td>Accelerated Healing,Durability,Longevity,Super...</td>\n",
       "    </tr>\n",
       "    <tr>\n",
       "      <th>2</th>\n",
       "      <td>Abe Sapien</td>\n",
       "      <td>Agility,Accelerated Healing,Cold Resistance,Du...</td>\n",
       "    </tr>\n",
       "    <tr>\n",
       "      <th>3</th>\n",
       "      <td>Abin Sur</td>\n",
       "      <td>Lantern Power Ring</td>\n",
       "    </tr>\n",
       "    <tr>\n",
       "      <th>4</th>\n",
       "      <td>Abomination</td>\n",
       "      <td>Accelerated Healing,Intelligence,Super Strengt...</td>\n",
       "    </tr>\n",
       "  </tbody>\n",
       "</table>\n",
       "</div>"
      ],
      "text/plain": [
       "          Name                                             Powers\n",
       "0      3-D Man         Agility,Super Strength,Stamina,Super Speed\n",
       "1       A-Bomb  Accelerated Healing,Durability,Longevity,Super...\n",
       "2   Abe Sapien  Agility,Accelerated Healing,Cold Resistance,Du...\n",
       "3     Abin Sur                                 Lantern Power Ring\n",
       "4  Abomination  Accelerated Healing,Intelligence,Super Strengt..."
      ]
     },
     "execution_count": 42,
     "metadata": {},
     "output_type": "execute_result"
    }
   ],
   "source": [
    "# Confirm name has been updated\n",
    "df_2.head()"
   ]
  },
  {
   "cell_type": "markdown",
   "id": "c9c2bf18",
   "metadata": {},
   "source": [
    "#### **Powers column**"
   ]
  },
  {
   "cell_type": "code",
   "execution_count": 43,
   "id": "a79e7d4d",
   "metadata": {},
   "outputs": [
    {
     "data": {
      "text/plain": [
       "'Agility,Super Strength,Stamina,Super Speed'"
      ]
     },
     "execution_count": 43,
     "metadata": {},
     "output_type": "execute_result"
    }
   ],
   "source": [
    "# Display a sample of Powers\n",
    "df_2.loc[0,'Powers']"
   ]
  },
  {
   "cell_type": "code",
   "execution_count": 44,
   "id": "b626f16f",
   "metadata": {},
   "outputs": [
    {
     "name": "stdout",
     "output_type": "stream",
     "text": [
      "<class 'str'>\n"
     ]
    }
   ],
   "source": [
    "# Display the data type for the sample of Powers\n",
    "print(type(df_2.loc[0,'Powers']))"
   ]
  },
  {
   "cell_type": "code",
   "execution_count": 45,
   "id": "b0034833",
   "metadata": {},
   "outputs": [],
   "source": [
    "# Create a series by spliting string\n",
    "new_powers = df_2[\"Powers\"].str.split(\",\")"
   ]
  },
  {
   "cell_type": "code",
   "execution_count": 46,
   "id": "69af9f1a",
   "metadata": {},
   "outputs": [
    {
     "name": "stdout",
     "output_type": "stream",
     "text": [
      "<class 'pandas.core.series.Series'>\n"
     ]
    }
   ],
   "source": [
    "# Display the data type for the series\n",
    "print(type(new_powers))"
   ]
  },
  {
   "cell_type": "code",
   "execution_count": 47,
   "id": "e5c518e5",
   "metadata": {},
   "outputs": [
    {
     "data": {
      "text/plain": [
       "0        [Agility, Super Strength, Stamina, Super Speed]\n",
       "1      [Accelerated Healing, Durability, Longevity, S...\n",
       "2      [Agility, Accelerated Healing, Cold Resistance...\n",
       "3                                   [Lantern Power Ring]\n",
       "4      [Accelerated Healing, Intelligence, Super Stre...\n",
       "                             ...                        \n",
       "662               [Flight, Energy Blasts, Size Changing]\n",
       "663    [Cold Resistance, Durability, Longevity, Super...\n",
       "664    [Agility, Stealth, Danger Sense, Marksmanship,...\n",
       "665    [Cryokinesis, Telepathy, Magic, Fire Control, ...\n",
       "666    [Super Speed, Intangibility, Time Travel, Time...\n",
       "Name: Powers, Length: 667, dtype: object"
      ]
     },
     "execution_count": 47,
     "metadata": {},
     "output_type": "execute_result"
    }
   ],
   "source": [
    "# Display the series\n",
    "new_powers"
   ]
  },
  {
   "cell_type": "code",
   "execution_count": 48,
   "id": "851b5928",
   "metadata": {},
   "outputs": [
    {
     "data": {
      "text/plain": [
       "0                   Agility\n",
       "1            Super Strength\n",
       "2                   Stamina\n",
       "3               Super Speed\n",
       "4       Accelerated Healing\n",
       "               ...         \n",
       "5869        Weather Control\n",
       "5870            Super Speed\n",
       "5871          Intangibility\n",
       "5872            Time Travel\n",
       "5873      Time Manipulation\n",
       "Name: Powers, Length: 5874, dtype: object"
      ]
     },
     "execution_count": 48,
     "metadata": {},
     "output_type": "execute_result"
    }
   ],
   "source": [
    "# Explode the series into seperate instances\n",
    "new_powers.explode(\"Powers\")"
   ]
  },
  {
   "cell_type": "code",
   "execution_count": 49,
   "id": "c7c67df5",
   "metadata": {},
   "outputs": [],
   "source": [
    "# Create a sorted array of new columns to make and drop the duplicates\n",
    "cols_to_make = new_powers.explode(\"Powers\").dropna().sort_values().unique()"
   ]
  },
  {
   "cell_type": "code",
   "execution_count": 50,
   "id": "0972f645",
   "metadata": {},
   "outputs": [
    {
     "data": {
      "text/plain": [
       "array(['Accelerated Healing', 'Adaptation', 'Agility',\n",
       "       'Animal Attributes', 'Animal Control', 'Animal Oriented Powers',\n",
       "       'Animation', 'Anti-Gravity', 'Astral Projection', 'Astral Travel',\n",
       "       'Audio Control', 'Banish', 'Biokinesis', 'Camouflage',\n",
       "       'Changing Armor', 'Clairvoyance', 'Cloaking', 'Cold Resistance',\n",
       "       'Cryokinesis', 'Danger Sense', 'Darkforce Manipulation',\n",
       "       'Death Touch', 'Density Control', 'Dexterity',\n",
       "       'Dimensional Awareness', 'Dimensional Travel', 'Duplication',\n",
       "       'Durability', 'Echolocation', 'Elasticity', 'Electrical Transport',\n",
       "       'Electrokinesis', 'Element Control',\n",
       "       'Elemental Transmogrification', 'Empathy', 'Energy Absorption',\n",
       "       'Energy Armor', 'Energy Beams', 'Energy Blasts',\n",
       "       'Energy Constructs', 'Energy Manipulation', 'Energy Resistance',\n",
       "       'Enhanced Hearing', 'Enhanced Memory', 'Enhanced Senses',\n",
       "       'Enhanced Sight', 'Enhanced Smell', 'Enhanced Touch',\n",
       "       'Fire Control', 'Fire Resistance', 'Flight', 'Force Fields',\n",
       "       'Gliding', 'Gravity Control', 'Grim Reaping', 'Hair Manipulation',\n",
       "       'Heat Generation', 'Heat Resistance', 'Hyperkinesis',\n",
       "       'Hypnokinesis', 'Illumination', 'Illusions', 'Immortality',\n",
       "       'Insanity', 'Intangibility', 'Intelligence', 'Intuitive aptitude',\n",
       "       'Invisibility', 'Invulnerability', 'Jump', 'Lantern Power Ring',\n",
       "       'Levitation', 'Light Control', 'Longevity', 'Magic',\n",
       "       'Magic Resistance', 'Magnetism', 'Marksmanship',\n",
       "       'Matter Absorption', 'Melting', 'Mind Blast', 'Mind Control',\n",
       "       'Mind Control Resistance', 'Molecular Combustion',\n",
       "       'Molecular Dissipation', 'Molecular Manipulation', 'Natural Armor',\n",
       "       'Natural Weapons', 'Nova Force', 'Odin Force', 'Omnilingualism',\n",
       "       'Omnipotent', 'Omnipresent', 'Omniscient', 'Omnitrix',\n",
       "       'Peak Human Condition', 'Phasing', 'Phoenix Force',\n",
       "       'Photographic Reflexes', 'Plant Control', 'Portal Creation',\n",
       "       'Possession', 'Power Absorption', 'Power Augmentation',\n",
       "       'Power Cosmic', 'Power Nullifier', 'Power Sense', 'Power Suit',\n",
       "       'Precognition', 'Probability Manipulation', 'Projection',\n",
       "       'Psionic Powers', 'Qwardian Power Ring', 'Radar Sense',\n",
       "       'Radiation Absorption', 'Radiation Control', 'Radiation Immunity',\n",
       "       'Reality Warping', 'Reflexes', 'Regeneration', 'Resurrection',\n",
       "       'Seismic Power', 'Self-Sustenance', 'Shapeshifting',\n",
       "       'Size Changing', 'Sonar', 'Sonic Scream', 'Spatial Awareness',\n",
       "       'Speed Force', 'Stamina', 'Stealth', 'Sub-Mariner',\n",
       "       'Substance Secretion', 'Summoning', 'Super Breath', 'Super Speed',\n",
       "       'Super Strength', 'Symbiote Costume', 'Technopath/Cyberpath',\n",
       "       'Telekinesis', 'Telepathy', 'Telepathy Resistance',\n",
       "       'Teleportation', 'Terrakinesis', 'The Force', 'Thirstokinesis',\n",
       "       'Time Manipulation', 'Time Travel', 'Toxin and Disease Control',\n",
       "       'Toxin and Disease Resistance', 'Underwater breathing',\n",
       "       'Vision - Cryo', 'Vision - Heat', 'Vision - Infrared',\n",
       "       'Vision - Microscopic', 'Vision - Night', 'Vision - Telescopic',\n",
       "       'Vision - Thermal', 'Vision - X-Ray', 'Vitakinesis',\n",
       "       'Wallcrawling', 'Water Control', 'Weapon-based Powers',\n",
       "       'Weapons Master', 'Weather Control', 'Web Creation',\n",
       "       'Wind Control'], dtype=object)"
      ]
     },
     "execution_count": 50,
     "metadata": {},
     "output_type": "execute_result"
    }
   ],
   "source": [
    "# Display the array of new columns to make\n",
    "cols_to_make"
   ]
  },
  {
   "cell_type": "code",
   "execution_count": 51,
   "id": "5cc40c89",
   "metadata": {
    "scrolled": true
   },
   "outputs": [
    {
     "name": "stderr",
     "output_type": "stream",
     "text": [
      "C:\\Users\\DELL\\anaconda3\\envs\\dojo-env\\lib\\site-packages\\ipykernel_launcher.py:4: PerformanceWarning: DataFrame is highly fragmented.  This is usually the result of calling `frame.insert` many times, which has poor performance.  Consider joining all columns at once using pd.concat(axis=1) instead.  To get a de-fragmented frame, use `newframe = frame.copy()`\n",
      "  after removing the cwd from sys.path.\n"
     ]
    }
   ],
   "source": [
    "# Loop through array of new columns to make and create a new column for each\n",
    "# Indicate true or false depending on if the value was in Powers\n",
    "for col in cols_to_make:\n",
    "    df_2[col] = df_2['Powers'].str.contains(col)"
   ]
  },
  {
   "cell_type": "code",
   "execution_count": 52,
   "id": "cf5faa29",
   "metadata": {},
   "outputs": [
    {
     "data": {
      "text/html": [
       "<div>\n",
       "<style scoped>\n",
       "    .dataframe tbody tr th:only-of-type {\n",
       "        vertical-align: middle;\n",
       "    }\n",
       "\n",
       "    .dataframe tbody tr th {\n",
       "        vertical-align: top;\n",
       "    }\n",
       "\n",
       "    .dataframe thead th {\n",
       "        text-align: right;\n",
       "    }\n",
       "</style>\n",
       "<table border=\"1\" class=\"dataframe\">\n",
       "  <thead>\n",
       "    <tr style=\"text-align: right;\">\n",
       "      <th></th>\n",
       "      <th>Name</th>\n",
       "      <th>Powers</th>\n",
       "      <th>Accelerated Healing</th>\n",
       "      <th>Adaptation</th>\n",
       "      <th>Agility</th>\n",
       "      <th>Animal Attributes</th>\n",
       "      <th>Animal Control</th>\n",
       "      <th>Animal Oriented Powers</th>\n",
       "      <th>Animation</th>\n",
       "      <th>Anti-Gravity</th>\n",
       "      <th>...</th>\n",
       "      <th>Vision - Thermal</th>\n",
       "      <th>Vision - X-Ray</th>\n",
       "      <th>Vitakinesis</th>\n",
       "      <th>Wallcrawling</th>\n",
       "      <th>Water Control</th>\n",
       "      <th>Weapon-based Powers</th>\n",
       "      <th>Weapons Master</th>\n",
       "      <th>Weather Control</th>\n",
       "      <th>Web Creation</th>\n",
       "      <th>Wind Control</th>\n",
       "    </tr>\n",
       "  </thead>\n",
       "  <tbody>\n",
       "    <tr>\n",
       "      <th>0</th>\n",
       "      <td>3-D Man</td>\n",
       "      <td>Agility,Super Strength,Stamina,Super Speed</td>\n",
       "      <td>False</td>\n",
       "      <td>False</td>\n",
       "      <td>True</td>\n",
       "      <td>False</td>\n",
       "      <td>False</td>\n",
       "      <td>False</td>\n",
       "      <td>False</td>\n",
       "      <td>False</td>\n",
       "      <td>...</td>\n",
       "      <td>False</td>\n",
       "      <td>False</td>\n",
       "      <td>False</td>\n",
       "      <td>False</td>\n",
       "      <td>False</td>\n",
       "      <td>False</td>\n",
       "      <td>False</td>\n",
       "      <td>False</td>\n",
       "      <td>False</td>\n",
       "      <td>False</td>\n",
       "    </tr>\n",
       "    <tr>\n",
       "      <th>1</th>\n",
       "      <td>A-Bomb</td>\n",
       "      <td>Accelerated Healing,Durability,Longevity,Super...</td>\n",
       "      <td>True</td>\n",
       "      <td>False</td>\n",
       "      <td>False</td>\n",
       "      <td>False</td>\n",
       "      <td>False</td>\n",
       "      <td>False</td>\n",
       "      <td>False</td>\n",
       "      <td>False</td>\n",
       "      <td>...</td>\n",
       "      <td>False</td>\n",
       "      <td>False</td>\n",
       "      <td>False</td>\n",
       "      <td>False</td>\n",
       "      <td>False</td>\n",
       "      <td>False</td>\n",
       "      <td>False</td>\n",
       "      <td>False</td>\n",
       "      <td>False</td>\n",
       "      <td>False</td>\n",
       "    </tr>\n",
       "    <tr>\n",
       "      <th>2</th>\n",
       "      <td>Abe Sapien</td>\n",
       "      <td>Agility,Accelerated Healing,Cold Resistance,Du...</td>\n",
       "      <td>True</td>\n",
       "      <td>False</td>\n",
       "      <td>True</td>\n",
       "      <td>False</td>\n",
       "      <td>False</td>\n",
       "      <td>False</td>\n",
       "      <td>False</td>\n",
       "      <td>False</td>\n",
       "      <td>...</td>\n",
       "      <td>False</td>\n",
       "      <td>False</td>\n",
       "      <td>False</td>\n",
       "      <td>False</td>\n",
       "      <td>False</td>\n",
       "      <td>False</td>\n",
       "      <td>True</td>\n",
       "      <td>False</td>\n",
       "      <td>False</td>\n",
       "      <td>False</td>\n",
       "    </tr>\n",
       "    <tr>\n",
       "      <th>3</th>\n",
       "      <td>Abin Sur</td>\n",
       "      <td>Lantern Power Ring</td>\n",
       "      <td>False</td>\n",
       "      <td>False</td>\n",
       "      <td>False</td>\n",
       "      <td>False</td>\n",
       "      <td>False</td>\n",
       "      <td>False</td>\n",
       "      <td>False</td>\n",
       "      <td>False</td>\n",
       "      <td>...</td>\n",
       "      <td>False</td>\n",
       "      <td>False</td>\n",
       "      <td>False</td>\n",
       "      <td>False</td>\n",
       "      <td>False</td>\n",
       "      <td>False</td>\n",
       "      <td>False</td>\n",
       "      <td>False</td>\n",
       "      <td>False</td>\n",
       "      <td>False</td>\n",
       "    </tr>\n",
       "    <tr>\n",
       "      <th>4</th>\n",
       "      <td>Abomination</td>\n",
       "      <td>Accelerated Healing,Intelligence,Super Strengt...</td>\n",
       "      <td>True</td>\n",
       "      <td>False</td>\n",
       "      <td>False</td>\n",
       "      <td>False</td>\n",
       "      <td>False</td>\n",
       "      <td>False</td>\n",
       "      <td>True</td>\n",
       "      <td>False</td>\n",
       "      <td>...</td>\n",
       "      <td>False</td>\n",
       "      <td>False</td>\n",
       "      <td>False</td>\n",
       "      <td>False</td>\n",
       "      <td>False</td>\n",
       "      <td>False</td>\n",
       "      <td>False</td>\n",
       "      <td>False</td>\n",
       "      <td>False</td>\n",
       "      <td>False</td>\n",
       "    </tr>\n",
       "  </tbody>\n",
       "</table>\n",
       "<p>5 rows × 169 columns</p>\n",
       "</div>"
      ],
      "text/plain": [
       "          Name                                             Powers  \\\n",
       "0      3-D Man         Agility,Super Strength,Stamina,Super Speed   \n",
       "1       A-Bomb  Accelerated Healing,Durability,Longevity,Super...   \n",
       "2   Abe Sapien  Agility,Accelerated Healing,Cold Resistance,Du...   \n",
       "3     Abin Sur                                 Lantern Power Ring   \n",
       "4  Abomination  Accelerated Healing,Intelligence,Super Strengt...   \n",
       "\n",
       "   Accelerated Healing  Adaptation  Agility  Animal Attributes  \\\n",
       "0                False       False     True              False   \n",
       "1                 True       False    False              False   \n",
       "2                 True       False     True              False   \n",
       "3                False       False    False              False   \n",
       "4                 True       False    False              False   \n",
       "\n",
       "   Animal Control  Animal Oriented Powers  Animation  Anti-Gravity  ...  \\\n",
       "0           False                   False      False         False  ...   \n",
       "1           False                   False      False         False  ...   \n",
       "2           False                   False      False         False  ...   \n",
       "3           False                   False      False         False  ...   \n",
       "4           False                   False       True         False  ...   \n",
       "\n",
       "   Vision - Thermal  Vision - X-Ray  Vitakinesis  Wallcrawling  Water Control  \\\n",
       "0             False           False        False         False          False   \n",
       "1             False           False        False         False          False   \n",
       "2             False           False        False         False          False   \n",
       "3             False           False        False         False          False   \n",
       "4             False           False        False         False          False   \n",
       "\n",
       "   Weapon-based Powers  Weapons Master  Weather Control  Web Creation  \\\n",
       "0                False           False            False         False   \n",
       "1                False           False            False         False   \n",
       "2                False            True            False         False   \n",
       "3                False           False            False         False   \n",
       "4                False           False            False         False   \n",
       "\n",
       "   Wind Control  \n",
       "0         False  \n",
       "1         False  \n",
       "2         False  \n",
       "3         False  \n",
       "4         False  \n",
       "\n",
       "[5 rows x 169 columns]"
      ]
     },
     "execution_count": 52,
     "metadata": {},
     "output_type": "execute_result"
    }
   ],
   "source": [
    "# Confirm columns have been added\n",
    "df_2.head()"
   ]
  },
  {
   "cell_type": "code",
   "execution_count": 53,
   "id": "f3125b6c",
   "metadata": {},
   "outputs": [],
   "source": [
    "# Drop Powers column which has been replaced by added columns\n",
    "df_2 = df_2.drop(columns=['Powers'])"
   ]
  },
  {
   "cell_type": "code",
   "execution_count": 54,
   "id": "17410da6",
   "metadata": {},
   "outputs": [
    {
     "data": {
      "text/html": [
       "<div>\n",
       "<style scoped>\n",
       "    .dataframe tbody tr th:only-of-type {\n",
       "        vertical-align: middle;\n",
       "    }\n",
       "\n",
       "    .dataframe tbody tr th {\n",
       "        vertical-align: top;\n",
       "    }\n",
       "\n",
       "    .dataframe thead th {\n",
       "        text-align: right;\n",
       "    }\n",
       "</style>\n",
       "<table border=\"1\" class=\"dataframe\">\n",
       "  <thead>\n",
       "    <tr style=\"text-align: right;\">\n",
       "      <th></th>\n",
       "      <th>Name</th>\n",
       "      <th>Accelerated Healing</th>\n",
       "      <th>Adaptation</th>\n",
       "      <th>Agility</th>\n",
       "      <th>Animal Attributes</th>\n",
       "      <th>Animal Control</th>\n",
       "      <th>Animal Oriented Powers</th>\n",
       "      <th>Animation</th>\n",
       "      <th>Anti-Gravity</th>\n",
       "      <th>Astral Projection</th>\n",
       "      <th>...</th>\n",
       "      <th>Vision - Thermal</th>\n",
       "      <th>Vision - X-Ray</th>\n",
       "      <th>Vitakinesis</th>\n",
       "      <th>Wallcrawling</th>\n",
       "      <th>Water Control</th>\n",
       "      <th>Weapon-based Powers</th>\n",
       "      <th>Weapons Master</th>\n",
       "      <th>Weather Control</th>\n",
       "      <th>Web Creation</th>\n",
       "      <th>Wind Control</th>\n",
       "    </tr>\n",
       "  </thead>\n",
       "  <tbody>\n",
       "    <tr>\n",
       "      <th>0</th>\n",
       "      <td>3-D Man</td>\n",
       "      <td>False</td>\n",
       "      <td>False</td>\n",
       "      <td>True</td>\n",
       "      <td>False</td>\n",
       "      <td>False</td>\n",
       "      <td>False</td>\n",
       "      <td>False</td>\n",
       "      <td>False</td>\n",
       "      <td>False</td>\n",
       "      <td>...</td>\n",
       "      <td>False</td>\n",
       "      <td>False</td>\n",
       "      <td>False</td>\n",
       "      <td>False</td>\n",
       "      <td>False</td>\n",
       "      <td>False</td>\n",
       "      <td>False</td>\n",
       "      <td>False</td>\n",
       "      <td>False</td>\n",
       "      <td>False</td>\n",
       "    </tr>\n",
       "    <tr>\n",
       "      <th>1</th>\n",
       "      <td>A-Bomb</td>\n",
       "      <td>True</td>\n",
       "      <td>False</td>\n",
       "      <td>False</td>\n",
       "      <td>False</td>\n",
       "      <td>False</td>\n",
       "      <td>False</td>\n",
       "      <td>False</td>\n",
       "      <td>False</td>\n",
       "      <td>False</td>\n",
       "      <td>...</td>\n",
       "      <td>False</td>\n",
       "      <td>False</td>\n",
       "      <td>False</td>\n",
       "      <td>False</td>\n",
       "      <td>False</td>\n",
       "      <td>False</td>\n",
       "      <td>False</td>\n",
       "      <td>False</td>\n",
       "      <td>False</td>\n",
       "      <td>False</td>\n",
       "    </tr>\n",
       "    <tr>\n",
       "      <th>2</th>\n",
       "      <td>Abe Sapien</td>\n",
       "      <td>True</td>\n",
       "      <td>False</td>\n",
       "      <td>True</td>\n",
       "      <td>False</td>\n",
       "      <td>False</td>\n",
       "      <td>False</td>\n",
       "      <td>False</td>\n",
       "      <td>False</td>\n",
       "      <td>False</td>\n",
       "      <td>...</td>\n",
       "      <td>False</td>\n",
       "      <td>False</td>\n",
       "      <td>False</td>\n",
       "      <td>False</td>\n",
       "      <td>False</td>\n",
       "      <td>False</td>\n",
       "      <td>True</td>\n",
       "      <td>False</td>\n",
       "      <td>False</td>\n",
       "      <td>False</td>\n",
       "    </tr>\n",
       "    <tr>\n",
       "      <th>3</th>\n",
       "      <td>Abin Sur</td>\n",
       "      <td>False</td>\n",
       "      <td>False</td>\n",
       "      <td>False</td>\n",
       "      <td>False</td>\n",
       "      <td>False</td>\n",
       "      <td>False</td>\n",
       "      <td>False</td>\n",
       "      <td>False</td>\n",
       "      <td>False</td>\n",
       "      <td>...</td>\n",
       "      <td>False</td>\n",
       "      <td>False</td>\n",
       "      <td>False</td>\n",
       "      <td>False</td>\n",
       "      <td>False</td>\n",
       "      <td>False</td>\n",
       "      <td>False</td>\n",
       "      <td>False</td>\n",
       "      <td>False</td>\n",
       "      <td>False</td>\n",
       "    </tr>\n",
       "    <tr>\n",
       "      <th>4</th>\n",
       "      <td>Abomination</td>\n",
       "      <td>True</td>\n",
       "      <td>False</td>\n",
       "      <td>False</td>\n",
       "      <td>False</td>\n",
       "      <td>False</td>\n",
       "      <td>False</td>\n",
       "      <td>True</td>\n",
       "      <td>False</td>\n",
       "      <td>False</td>\n",
       "      <td>...</td>\n",
       "      <td>False</td>\n",
       "      <td>False</td>\n",
       "      <td>False</td>\n",
       "      <td>False</td>\n",
       "      <td>False</td>\n",
       "      <td>False</td>\n",
       "      <td>False</td>\n",
       "      <td>False</td>\n",
       "      <td>False</td>\n",
       "      <td>False</td>\n",
       "    </tr>\n",
       "  </tbody>\n",
       "</table>\n",
       "<p>5 rows × 168 columns</p>\n",
       "</div>"
      ],
      "text/plain": [
       "          Name  Accelerated Healing  Adaptation  Agility  Animal Attributes  \\\n",
       "0      3-D Man                False       False     True              False   \n",
       "1       A-Bomb                 True       False    False              False   \n",
       "2   Abe Sapien                 True       False     True              False   \n",
       "3     Abin Sur                False       False    False              False   \n",
       "4  Abomination                 True       False    False              False   \n",
       "\n",
       "   Animal Control  Animal Oriented Powers  Animation  Anti-Gravity  \\\n",
       "0           False                   False      False         False   \n",
       "1           False                   False      False         False   \n",
       "2           False                   False      False         False   \n",
       "3           False                   False      False         False   \n",
       "4           False                   False       True         False   \n",
       "\n",
       "   Astral Projection  ...  Vision - Thermal  Vision - X-Ray  Vitakinesis  \\\n",
       "0              False  ...             False           False        False   \n",
       "1              False  ...             False           False        False   \n",
       "2              False  ...             False           False        False   \n",
       "3              False  ...             False           False        False   \n",
       "4              False  ...             False           False        False   \n",
       "\n",
       "   Wallcrawling  Water Control  Weapon-based Powers  Weapons Master  \\\n",
       "0         False          False                False           False   \n",
       "1         False          False                False           False   \n",
       "2         False          False                False            True   \n",
       "3         False          False                False           False   \n",
       "4         False          False                False           False   \n",
       "\n",
       "   Weather Control  Web Creation  Wind Control  \n",
       "0            False         False         False  \n",
       "1            False         False         False  \n",
       "2            False         False         False  \n",
       "3            False         False         False  \n",
       "4            False         False         False  \n",
       "\n",
       "[5 rows x 168 columns]"
      ]
     },
     "execution_count": 54,
     "metadata": {},
     "output_type": "execute_result"
    }
   ],
   "source": [
    "# Confirm Powers column has been dropped\n",
    "df_2.head()"
   ]
  },
  {
   "cell_type": "markdown",
   "id": "f9e429e2",
   "metadata": {},
   "source": [
    "## **Merge Dataframes**"
   ]
  },
  {
   "cell_type": "code",
   "execution_count": 55,
   "id": "cc269d6f",
   "metadata": {},
   "outputs": [],
   "source": [
    "# Merge dataframes on the Name column\n",
    "df_3 = pd.merge(df_1, df_2, on='Name')"
   ]
  },
  {
   "cell_type": "code",
   "execution_count": 56,
   "id": "614a45d8",
   "metadata": {},
   "outputs": [
    {
     "data": {
      "text/html": [
       "<div>\n",
       "<style scoped>\n",
       "    .dataframe tbody tr th:only-of-type {\n",
       "        vertical-align: middle;\n",
       "    }\n",
       "\n",
       "    .dataframe tbody tr th {\n",
       "        vertical-align: top;\n",
       "    }\n",
       "\n",
       "    .dataframe thead th {\n",
       "        text-align: right;\n",
       "    }\n",
       "</style>\n",
       "<table border=\"1\" class=\"dataframe\">\n",
       "  <thead>\n",
       "    <tr style=\"text-align: right;\">\n",
       "      <th></th>\n",
       "      <th>Name</th>\n",
       "      <th>Gender</th>\n",
       "      <th>Race</th>\n",
       "      <th>Alignment</th>\n",
       "      <th>Hair color</th>\n",
       "      <th>Eye color</th>\n",
       "      <th>Skin color</th>\n",
       "      <th>Publisher</th>\n",
       "      <th>Height</th>\n",
       "      <th>Weight</th>\n",
       "      <th>...</th>\n",
       "      <th>Vision - Thermal</th>\n",
       "      <th>Vision - X-Ray</th>\n",
       "      <th>Vitakinesis</th>\n",
       "      <th>Wallcrawling</th>\n",
       "      <th>Water Control</th>\n",
       "      <th>Weapon-based Powers</th>\n",
       "      <th>Weapons Master</th>\n",
       "      <th>Weather Control</th>\n",
       "      <th>Web Creation</th>\n",
       "      <th>Wind Control</th>\n",
       "    </tr>\n",
       "  </thead>\n",
       "  <tbody>\n",
       "    <tr>\n",
       "      <th>0</th>\n",
       "      <td>A-Bomb</td>\n",
       "      <td>Male</td>\n",
       "      <td>Human</td>\n",
       "      <td>good</td>\n",
       "      <td>No Hair</td>\n",
       "      <td>yellow</td>\n",
       "      <td>Unknown</td>\n",
       "      <td>Marvel Comics</td>\n",
       "      <td>203</td>\n",
       "      <td>441</td>\n",
       "      <td>...</td>\n",
       "      <td>False</td>\n",
       "      <td>False</td>\n",
       "      <td>False</td>\n",
       "      <td>False</td>\n",
       "      <td>False</td>\n",
       "      <td>False</td>\n",
       "      <td>False</td>\n",
       "      <td>False</td>\n",
       "      <td>False</td>\n",
       "      <td>False</td>\n",
       "    </tr>\n",
       "    <tr>\n",
       "      <th>1</th>\n",
       "      <td>Abe Sapien</td>\n",
       "      <td>Male</td>\n",
       "      <td>Icthyo Sapien</td>\n",
       "      <td>good</td>\n",
       "      <td>No Hair</td>\n",
       "      <td>blue</td>\n",
       "      <td>blue</td>\n",
       "      <td>Dark Horse Comics</td>\n",
       "      <td>191</td>\n",
       "      <td>65</td>\n",
       "      <td>...</td>\n",
       "      <td>False</td>\n",
       "      <td>False</td>\n",
       "      <td>False</td>\n",
       "      <td>False</td>\n",
       "      <td>False</td>\n",
       "      <td>False</td>\n",
       "      <td>True</td>\n",
       "      <td>False</td>\n",
       "      <td>False</td>\n",
       "      <td>False</td>\n",
       "    </tr>\n",
       "    <tr>\n",
       "      <th>2</th>\n",
       "      <td>Abin Sur</td>\n",
       "      <td>Male</td>\n",
       "      <td>Ungaran</td>\n",
       "      <td>good</td>\n",
       "      <td>No Hair</td>\n",
       "      <td>blue</td>\n",
       "      <td>red</td>\n",
       "      <td>DC Comics</td>\n",
       "      <td>185</td>\n",
       "      <td>90</td>\n",
       "      <td>...</td>\n",
       "      <td>False</td>\n",
       "      <td>False</td>\n",
       "      <td>False</td>\n",
       "      <td>False</td>\n",
       "      <td>False</td>\n",
       "      <td>False</td>\n",
       "      <td>False</td>\n",
       "      <td>False</td>\n",
       "      <td>False</td>\n",
       "      <td>False</td>\n",
       "    </tr>\n",
       "    <tr>\n",
       "      <th>3</th>\n",
       "      <td>Abomination</td>\n",
       "      <td>Male</td>\n",
       "      <td>Human / Radiation</td>\n",
       "      <td>bad</td>\n",
       "      <td>No Hair</td>\n",
       "      <td>green</td>\n",
       "      <td>Unknown</td>\n",
       "      <td>Marvel Comics</td>\n",
       "      <td>203</td>\n",
       "      <td>441</td>\n",
       "      <td>...</td>\n",
       "      <td>False</td>\n",
       "      <td>False</td>\n",
       "      <td>False</td>\n",
       "      <td>False</td>\n",
       "      <td>False</td>\n",
       "      <td>False</td>\n",
       "      <td>False</td>\n",
       "      <td>False</td>\n",
       "      <td>False</td>\n",
       "      <td>False</td>\n",
       "    </tr>\n",
       "    <tr>\n",
       "      <th>4</th>\n",
       "      <td>Absorbing Man</td>\n",
       "      <td>Male</td>\n",
       "      <td>Human</td>\n",
       "      <td>bad</td>\n",
       "      <td>No Hair</td>\n",
       "      <td>blue</td>\n",
       "      <td>Unknown</td>\n",
       "      <td>Marvel Comics</td>\n",
       "      <td>193</td>\n",
       "      <td>122</td>\n",
       "      <td>...</td>\n",
       "      <td>False</td>\n",
       "      <td>False</td>\n",
       "      <td>False</td>\n",
       "      <td>False</td>\n",
       "      <td>False</td>\n",
       "      <td>False</td>\n",
       "      <td>False</td>\n",
       "      <td>False</td>\n",
       "      <td>False</td>\n",
       "      <td>False</td>\n",
       "    </tr>\n",
       "  </tbody>\n",
       "</table>\n",
       "<p>5 rows × 177 columns</p>\n",
       "</div>"
      ],
      "text/plain": [
       "            Name Gender               Race Alignment Hair color Eye color  \\\n",
       "0         A-Bomb   Male              Human      good    No Hair    yellow   \n",
       "1     Abe Sapien   Male      Icthyo Sapien      good    No Hair      blue   \n",
       "2       Abin Sur   Male            Ungaran      good    No Hair      blue   \n",
       "3    Abomination   Male  Human / Radiation       bad    No Hair     green   \n",
       "4  Absorbing Man   Male              Human       bad    No Hair      blue   \n",
       "\n",
       "  Skin color          Publisher  Height  Weight  ...  Vision - Thermal  \\\n",
       "0    Unknown      Marvel Comics     203     441  ...             False   \n",
       "1       blue  Dark Horse Comics     191      65  ...             False   \n",
       "2        red          DC Comics     185      90  ...             False   \n",
       "3    Unknown      Marvel Comics     203     441  ...             False   \n",
       "4    Unknown      Marvel Comics     193     122  ...             False   \n",
       "\n",
       "   Vision - X-Ray  Vitakinesis  Wallcrawling  Water Control  \\\n",
       "0           False        False         False          False   \n",
       "1           False        False         False          False   \n",
       "2           False        False         False          False   \n",
       "3           False        False         False          False   \n",
       "4           False        False         False          False   \n",
       "\n",
       "   Weapon-based Powers  Weapons Master  Weather Control  Web Creation  \\\n",
       "0                False           False            False         False   \n",
       "1                False            True            False         False   \n",
       "2                False           False            False         False   \n",
       "3                False           False            False         False   \n",
       "4                False           False            False         False   \n",
       "\n",
       "   Wind Control  \n",
       "0         False  \n",
       "1         False  \n",
       "2         False  \n",
       "3         False  \n",
       "4         False  \n",
       "\n",
       "[5 rows x 177 columns]"
      ]
     },
     "execution_count": 56,
     "metadata": {},
     "output_type": "execute_result"
    }
   ],
   "source": [
    "# Display merged dataframe\n",
    "df_3.head()"
   ]
  },
  {
   "cell_type": "markdown",
   "id": "5bdfb57d",
   "metadata": {},
   "source": [
    "## **Questions**"
   ]
  },
  {
   "cell_type": "markdown",
   "id": "052cd46b",
   "metadata": {},
   "source": [
    "### **Compare the average weight of super powers who have Super Speed to those who do not.**"
   ]
  },
  {
   "cell_type": "code",
   "execution_count": 57,
   "id": "142cc871",
   "metadata": {},
   "outputs": [
    {
     "data": {
      "text/plain": [
       "Super Speed\n",
       "True     129.404\n",
       "False    101.774\n",
       "Name: Weight, dtype: float64"
      ]
     },
     "execution_count": 57,
     "metadata": {},
     "output_type": "execute_result"
    }
   ],
   "source": [
    "# Group Weight by Super Speed\n",
    "groupby_speed = df_3.groupby([\"Super Speed\"])\n",
    "round(groupby_speed[\"Weight\"].mean(),3).sort_values(ascending=False )"
   ]
  },
  {
   "cell_type": "markdown",
   "id": "e4be92a3",
   "metadata": {},
   "source": [
    "### **What is the average height of heroes for each publisher?**"
   ]
  },
  {
   "cell_type": "code",
   "execution_count": 58,
   "id": "45a0ff5d",
   "metadata": {},
   "outputs": [
    {
     "data": {
      "text/plain": [
       "Publisher\n",
       "Image Comics         211.000\n",
       "Marvel Comics        191.545\n",
       "DC Comics            181.920\n",
       "Star Trek            181.500\n",
       "Team Epic TV         180.750\n",
       "Unknown              178.000\n",
       "Dark Horse Comics    176.909\n",
       "Shueisha             171.500\n",
       "George Lucas         159.600\n",
       "Name: Height, dtype: float64"
      ]
     },
     "execution_count": 58,
     "metadata": {},
     "output_type": "execute_result"
    }
   ],
   "source": [
    "# Group Height by Publisher\n",
    "groupby_publisher = df_3.groupby([\"Publisher\"])\n",
    "round(groupby_publisher[\"Height\"].mean(),3).sort_values(ascending=False )"
   ]
  }
 ],
 "metadata": {
  "kernelspec": {
   "display_name": "Python (dojo-env)",
   "language": "python",
   "name": "dojo-env"
  },
  "language_info": {
   "codemirror_mode": {
    "name": "ipython",
    "version": 3
   },
   "file_extension": ".py",
   "mimetype": "text/x-python",
   "name": "python",
   "nbconvert_exporter": "python",
   "pygments_lexer": "ipython3",
   "version": "3.7.12"
  },
  "toc": {
   "base_numbering": 1,
   "nav_menu": {},
   "number_sections": true,
   "sideBar": true,
   "skip_h1_title": false,
   "title_cell": "Table of Contents",
   "title_sidebar": "Contents",
   "toc_cell": false,
   "toc_position": {
    "height": "calc(100% - 180px)",
    "left": "10px",
    "top": "150px",
    "width": "273.188px"
   },
   "toc_section_display": true,
   "toc_window_display": true
  }
 },
 "nbformat": 4,
 "nbformat_minor": 5
}
